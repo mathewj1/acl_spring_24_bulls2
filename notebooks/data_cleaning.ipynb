{
 "cells": [
  {
   "cell_type": "markdown",
   "metadata": {},
   "source": [
    "# Data Cleaning"
   ]
  },
  {
   "cell_type": "code",
   "execution_count": 242,
   "metadata": {},
   "outputs": [],
   "source": [
    "import pandas as pd\n",
    "import pyarrow\n",
    "import os\n",
    "import matplotlib.pyplot as plt\n",
    "folder_path = os.getenv(\"MY_WORKSPACE\", 'empty') + '/acl_spring_24_bulls2'\n",
    "os.chdir(folder_path)"
   ]
  },
  {
   "cell_type": "markdown",
   "metadata": {},
   "source": [
    "4 types of data are provided: \n",
    "\n",
    "1. Ticket Sales Data - sales data from the tickets purchased and scanned at the United Center\n",
    "\n",
    "2. Email Engagement Data - these contain information about interactions attendees have with the emails sent before and after the game. There are two categories of files (send and clickthrough) for two types of emails (KBYG and postgame).\n",
    "\n",
    "    * KBYG - know before you go emails are the pre-game emails\n",
    "        \n",
    "        1. Send Details\n",
    "\n",
    "        2. Clickthrough Data\n",
    "\n",
    "    * Postgame - postgame emails sent after the game\n",
    "        \n",
    "        1. Send Details\n",
    "\n",
    "        2. Clickthrough Data\n",
    "\n",
    "3. LiveA Demographic Data - 3rd Party Provider data to augment with ticket sales and email engagment data to profile individuals with demographic characteristics\n",
    "\n",
    "4. Bulls Theme + Giveaway Schedule - schedule of promotional activity for each game. \n",
    "\n"
   ]
  },
  {
   "cell_type": "markdown",
   "metadata": {},
   "source": [
    "## Ticket Sales Data Cleaning"
   ]
  },
  {
   "cell_type": "code",
   "execution_count": 243,
   "metadata": {},
   "outputs": [],
   "source": [
    "#Import ticket sales data\n",
    "tickets = pd.read_csv(\"/Users/jm/working/acl_spring_24_bulls2/data/raw/Ticket Sales Data/22-23 & 23-24 (through 3.14) Ticket Sales Data.csv\", \n",
    "                      names = [\n",
    "                        'season_name', 'event_date', 'event_weekday', 'opponent_short',\n",
    "                        'parent_ticket_categories', 'add_date', 'days_before_event',\n",
    "                        'purchaser_email', 'total_seats', 'seat_location', 'seat_level',\n",
    "                        'arrival_time', 'attendee_email', 'attendee_zip_code', 'mobile_scan',\n",
    "                        'scan_category'\n",
    "                    ],\n",
    "                    header = 0\n",
    "                )\n",
    "\n"
   ]
  },
  {
   "cell_type": "code",
   "execution_count": 244,
   "metadata": {},
   "outputs": [],
   "source": [
    "# Fix Date Data Types\n",
    "tickets[\"event_date\"] = pd.to_datetime(tickets['event_date'], format = \"%d-%b-%y\")#.astype(str)\n",
    "\n",
    "tickets[\"add_date\"] = pd.to_datetime(tickets['add_date'], format = \"%d-%b-%y\")#.astype(str)\n",
    "\n",
    "tickets[\"arrival_time\"] = pd.to_datetime(tickets['arrival_time'], format = \"%m/%d/%y %H:%M\")"
   ]
  },
  {
   "cell_type": "code",
   "execution_count": 245,
   "metadata": {},
   "outputs": [],
   "source": [
    "# Convert mobile_scan to a boolean\n",
    "tickets['mobile_scan'] = tickets.mobile_scan.astype(\"bool\")"
   ]
  },
  {
   "cell_type": "markdown",
   "metadata": {},
   "source": [
    "### Ticket Sales Data Overview\n",
    "\n",
    "This data represents tickets redeemed at the United Center for Chicago Bulls home games. Column names have been renamed to be more code-friendly. Below is the data dictionary:\n",
    "\n",
    "### Event Information\n",
    "| Code Friendly Name        | Description                                                  | Detail                                         | Field Type |\n",
    "|---------------------------|--------------------------------------------------------------|------------------------------------------------|------------|\n",
    "| season_name               | Indicates the NBA season of each event                       | NBA season runs from October to April          | CHARACTER  |\n",
    "| event_date                | The date of the game for which tickets were redeemed         |                                                | DATE       |\n",
    "| event_weekday             | The day of the week each game was held                       |                                                | CHARACTER  |\n",
    "| opponent_short            | The nickname of the opposing team (city/location excluded)   | Example: Lakers, Pelicans                      | CHARACTER  |\n",
    "\n",
    "### Ticket Purchase Information\n",
    "| Code Friendly Name        | Description                                                  | Detail                                         | Field Type |\n",
    "|---------------------------|--------------------------------------------------------------|------------------------------------------------|------------|\n",
    "| parent_ticket_categories  | Type of ticket purchased                                     | Group = group purchases, Individual: Resale Buyer, Package = Subscription | CHARACTER  |\n",
    "| add_date                  | Date the tickets were purchased/added                        |                                                | DATE       |\n",
    "| days_before_event         | Days in advance the ticket was purchased                     | Calculated from Add Date and Event Date        | INTEGER    |\n",
    "| purchaser_email           | Email contact associated with the purchase record            |                                                | CHARACTER  |\n",
    "| total_seats               | Total number of seats purchased in the transaction           |                                                | INTEGER    |\n",
    "| seat_location             | Location in the United Center where the seats are located    | 100 Level = lower bowl of seats                 | CHARACTER  |\n",
    "| seat_level                | Level of seat access within the United Center                | Lower Level = 100 Level, Club Level = 200 and 300 levels | CHARACTER  |\n",
    "\n",
    "### Attendance Information\n",
    "| Code Friendly Name        | Description                                                  | Detail                                         | Field Type |\n",
    "|---------------------------|--------------------------------------------------------------|------------------------------------------------|------------|\n",
    "| arrival_time              | DateTime of ticket scan at the gate                          | Blank = Un-scanned ticket                      | DATETIME   |\n",
    "| attendee_email            | Email contact associated with the attendee                   |                                                | CHARACTER  |\n",
    "| attendee_zip_code         | Zip code of the attendee's address                           |                                                | INTEGER    |\n",
    "| mobile_scan               | Indicates if the ticket was scanned using a mobile device    | 1 = Mobile scan, 0 = Non-mobile scan, Blank = Un-scanned | BINARY     |\n",
    "| scan_category             | Method used by the attendee to access the event              |                                                | CHARACTER  |\n",
    "\n",
    "This dictionary serves as a reference for understanding and utilizing the data fields related to ticket sales for Chicago Bulls home games at the United Center.\n"
   ]
  },
  {
   "cell_type": "code",
   "execution_count": 246,
   "metadata": {},
   "outputs": [
    {
     "name": "stdout",
     "output_type": "stream",
     "text": [
      "<class 'pandas.core.frame.DataFrame'>\n",
      "RangeIndex: 570265 entries, 0 to 570264\n",
      "Data columns (total 16 columns):\n",
      " #   Column                    Non-Null Count   Dtype         \n",
      "---  ------                    --------------   -----         \n",
      " 0   season_name               570265 non-null  object        \n",
      " 1   event_date                570265 non-null  datetime64[ns]\n",
      " 2   event_weekday             570265 non-null  object        \n",
      " 3   opponent_short            570265 non-null  object        \n",
      " 4   parent_ticket_categories  570265 non-null  object        \n",
      " 5   add_date                  570265 non-null  datetime64[ns]\n",
      " 6   days_before_event         570265 non-null  int64         \n",
      " 7   purchaser_email           563715 non-null  object        \n",
      " 8   total_seats               570265 non-null  int64         \n",
      " 9   seat_location             570265 non-null  object        \n",
      " 10  seat_level                570265 non-null  object        \n",
      " 11  arrival_time              526213 non-null  datetime64[ns]\n",
      " 12  attendee_email            520524 non-null  object        \n",
      " 13  attendee_zip_code         402632 non-null  object        \n",
      " 14  mobile_scan               570265 non-null  bool          \n",
      " 15  scan_category             570265 non-null  object        \n",
      "dtypes: bool(1), datetime64[ns](3), int64(2), object(10)\n",
      "memory usage: 65.8+ MB\n"
     ]
    }
   ],
   "source": [
    "tickets.info()"
   ]
  },
  {
   "cell_type": "markdown",
   "metadata": {},
   "source": [
    "Filter to just the season ticket holders using the 'parent_ticket_categories' variable."
   ]
  },
  {
   "cell_type": "code",
   "execution_count": 247,
   "metadata": {},
   "outputs": [],
   "source": [
    "season_tickets = tickets[tickets['parent_ticket_categories'] == \"Season\"]"
   ]
  },
  {
   "cell_type": "code",
   "execution_count": 248,
   "metadata": {},
   "outputs": [
    {
     "name": "stdout",
     "output_type": "stream",
     "text": [
      "<class 'pandas.core.frame.DataFrame'>\n",
      "Index: 270086 entries, 300179 to 570264\n",
      "Data columns (total 16 columns):\n",
      " #   Column                    Non-Null Count   Dtype         \n",
      "---  ------                    --------------   -----         \n",
      " 0   season_name               270086 non-null  object        \n",
      " 1   event_date                270086 non-null  datetime64[ns]\n",
      " 2   event_weekday             270086 non-null  object        \n",
      " 3   opponent_short            270086 non-null  object        \n",
      " 4   parent_ticket_categories  270086 non-null  object        \n",
      " 5   add_date                  270086 non-null  datetime64[ns]\n",
      " 6   days_before_event         270086 non-null  int64         \n",
      " 7   purchaser_email           268908 non-null  object        \n",
      " 8   total_seats               270086 non-null  int64         \n",
      " 9   seat_location             270086 non-null  object        \n",
      " 10  seat_level                270086 non-null  object        \n",
      " 11  arrival_time              237206 non-null  datetime64[ns]\n",
      " 12  attendee_email            236956 non-null  object        \n",
      " 13  attendee_zip_code         201700 non-null  object        \n",
      " 14  mobile_scan               270086 non-null  bool          \n",
      " 15  scan_category             270086 non-null  object        \n",
      "dtypes: bool(1), datetime64[ns](3), int64(2), object(10)\n",
      "memory usage: 33.2+ MB\n"
     ]
    }
   ],
   "source": [
    "season_tickets.info()"
   ]
  },
  {
   "cell_type": "markdown",
   "metadata": {},
   "source": [
    "### Ticket Sales Data Summary\n",
    "\n",
    "There are 270,068 season ticket purchasers that were scanned at Chicago Bulls games at the United Center over the 2022-2023 season and 2023-2024 (through March 19th) season. The data contains 15 columns. \n",
    "\n",
    "There are missing values in the `purchaser_email`, `attendee_email`, `arrival_time`, and `attendee_zip_code` columns.\n",
    "\n"
   ]
  },
  {
   "cell_type": "code",
   "execution_count": null,
   "metadata": {},
   "outputs": [],
   "source": []
  },
  {
   "cell_type": "markdown",
   "metadata": {},
   "source": [
    "## Game Data Cleaning"
   ]
  },
  {
   "cell_type": "markdown",
   "metadata": {},
   "source": [
    "It may be important to look at data from the season. Here we have imported game data that shows the score, win streak, etc., for each regular season game. "
   ]
  },
  {
   "cell_type": "markdown",
   "metadata": {},
   "source": [
    "### Games Data Overview\n",
    "\n",
    "This data represents games played by the Chicago Bulls and the results. Below is the data dictionary:\n",
    "\n",
    "### Data Dictionary\n",
    "| Code Friendly Name        | Description                                                  | Detail                                         | Field Type |\n",
    "|---------------------------|--------------------------------------------------------------|------------------------------------------------|------------|\n",
    "| season_name               | Indicates the NBA season of each event                       | NBA season runs from October to April          | CHARACTER  |\n",
    "| G                         | Game number of the season                                    |                                                | INT        |\n",
    "| event_date                | date of the game                                             |                                                | DATE       |\n",
    "| start_ct                  | dstart time of the game in central time                      |                                                | DATE       |\n",
    "| away                      | 1 if away and 0 if home game                                 |                                                | INT        |\n",
    "| Opponent                  | full name of opponent                                        |                                                | CHARACTER  |\n",
    "| outcome                   | Win or Loss (W or L)                                         |                                                | CHARACTER  |\n",
    "| overtime                  | Did it go to overtime?                                       |                                                | CHARACTER  |\n",
    "| pts                       | points scored                                                |                                                | INT        |\n",
    "| pts_all                   | points allowed                                               |                                                | INT        |\n",
    "| W                         | wins to date                                                 |                                                | INT        |\n",
    "| L                         | losses to date                                               |                                                | INT        |\n",
    "| Streak                    | Streak                                                       |             e.g., 'W 4'    or 'L 2             | CHARACTER  |\n",
    "| Notes                     | misc notes                                                   |                                                | CHARACTER  |"
   ]
  },
  {
   "cell_type": "code",
   "execution_count": 249,
   "metadata": {},
   "outputs": [],
   "source": [
    "s23 = pd.read_csv(\"/Users/jm/working/acl_spring_24_bulls2/data/bulls2223_season.csv\")\n",
    "s24 = pd.read_csv(\"/Users/jm/working/acl_spring_24_bulls2/data/bulls2324_season.csv\")"
   ]
  },
  {
   "cell_type": "code",
   "execution_count": 250,
   "metadata": {},
   "outputs": [],
   "source": [
    "def convert_time(time_str):\n",
    "    return time_str.replace('p', ' PM').replace('a', ' AM')\n",
    "\n",
    "def prep_season_games(season_data, season:str):\n",
    "    season_data['season_name'] = season\n",
    "\n",
    "    season_data[\"start_et\"] = season_data['date'] + ' ' + season_data['start_et'].apply(convert_time)\n",
    "    season_data[\"start_et\"] = pd.to_datetime(season_data['start_et'], format = \"%a %b %d %Y %I:%M %p\")\n",
    "    season_data['event_date'] = pd.to_datetime(season_data['date'], format = \"%a %b %d %Y\")#.astype(str)\n",
    "\n",
    "    # Convert to central time zone\n",
    "    season_data[\"start_ct\"] =  season_data[\"start_et\"] - pd.Timedelta(hours=1)\n",
    "\n",
    "    return season_data\n",
    "\n",
    "s23 = prep_season_games(s23, season = \"2022-2023 Chicago Bulls\")[\n",
    "    [\n",
    "        \"season_name\", \"G\", \"event_date\", \"start_ct\", \"away\", \n",
    "        \"Opponent\", \"outcome\", \"overtime\", \"pts\", \"pts_all\",\n",
    "        \"W\", \"L\", \"Streak\", \"Notes\"\n",
    "        ]\n",
    "    ]\n",
    "\n",
    "s24 = prep_season_games(s24, season = \"2023-2024 Chicago Bulls\")[\n",
    "    [\n",
    "        \"season_name\", \"G\", \"event_date\", \"start_ct\", \"away\", \n",
    "        \"Opponent\", \"outcome\", \"overtime\", \"pts\", \"pts_all\",\n",
    "        \"W\", \"L\", \"Streak\", \"Notes\"\n",
    "        ]\n",
    "    ]"
   ]
  },
  {
   "cell_type": "code",
   "execution_count": 251,
   "metadata": {},
   "outputs": [],
   "source": [
    "bulls2224_games = pd.concat([s23, s24])"
   ]
  },
  {
   "cell_type": "code",
   "execution_count": 252,
   "metadata": {},
   "outputs": [],
   "source": [
    "# Filter for home games\n",
    "home_games = bulls2224_games[bulls2224_games['away'] == 0].drop('away', axis = 1)"
   ]
  },
  {
   "cell_type": "code",
   "execution_count": 253,
   "metadata": {},
   "outputs": [
    {
     "name": "stdout",
     "output_type": "stream",
     "text": [
      "<class 'pandas.core.frame.DataFrame'>\n",
      "Index: 79 entries, 2 to 72\n",
      "Data columns (total 13 columns):\n",
      " #   Column       Non-Null Count  Dtype         \n",
      "---  ------       --------------  -----         \n",
      " 0   season_name  79 non-null     object        \n",
      " 1   G            79 non-null     int64         \n",
      " 2   event_date   79 non-null     datetime64[ns]\n",
      " 3   start_ct     79 non-null     datetime64[ns]\n",
      " 4   Opponent     79 non-null     object        \n",
      " 5   outcome      79 non-null     object        \n",
      " 6   overtime     79 non-null     object        \n",
      " 7   pts          79 non-null     int64         \n",
      " 8   pts_all      79 non-null     int64         \n",
      " 9   W            79 non-null     int64         \n",
      " 10  L            79 non-null     int64         \n",
      " 11  Streak       79 non-null     object        \n",
      " 12  Notes        2 non-null      object        \n",
      "dtypes: datetime64[ns](2), int64(5), object(6)\n",
      "memory usage: 8.6+ KB\n"
     ]
    }
   ],
   "source": [
    "home_games.info()"
   ]
  },
  {
   "cell_type": "code",
   "execution_count": null,
   "metadata": {},
   "outputs": [],
   "source": []
  },
  {
   "cell_type": "markdown",
   "metadata": {},
   "source": [
    "## Email Engagement Data Cleaning"
   ]
  },
  {
   "cell_type": "markdown",
   "metadata": {},
   "source": [
    "The email engagment data is broken into two files corresponding to the pre-game and post-game email schedule. One email is sent before every Chicago Bulls game and another is sent after every game. The data collected in both of these files represents the clickthrough data for both types of email sent. Both files contain data for both the '22 - '23 season and '23 - '24 season. \n",
    "\n",
    "Everytime an attendee clicks a link on one of these emails a row is entered. \n",
    "\n",
    "The two types of email engagment data are: \n",
    "1. KBYG - Know Before You Go: these emails are sent before the game to ticket holders with pre-game instructions. Usually sent the same day. \n",
    "2. Post-Game: These emails are sent after the game with promotional material. \n",
    "\n",
    "Each of these types is complemented with send details data and clickthrough data.\n",
    "\n",
    "\n",
    "### Email Send - Data Dictionary\n",
    "\n",
    "We will rename the columns to make them more code friendly. Find the data dictionary below. \n",
    "\n",
    "| Variable Name                 | Code Friendly Name    | Description                                                   | Field Type |\n",
    "|-------------------------------|-----------------------|---------------------------------------------------------------|------------|\n",
    "| Email Send Date               | email_send_dt         | date and time the email was sent                              | DATE       |\n",
    "| Email Group                   | email_group           | the email group as defined by the Bulls team                  | CHARACTER  |\n",
    "| Email Name                    | email_name            | name of the email sent out                                    | CHARACTER  |\n",
    "| Email Address                 | attendee_email        | email of the attendee of the game                             | CHARACTER  |\n",
    "| Total Sends                   | total_sends           | number of sends                                               | INTEGER    |\n",
    "| Total Delivered               | total_delivered       | number of delivers                                            | INTEGER    |\n",
    "| Total Opens                   | total_opens           | number of opens                                               | INTEGER    |\n",
    "| Unique Opens                  | unique_opens          | number of unique opens                                        | INTEGER    |\n",
    "| Total Clickthroughs           | total_clickthroughs   | total count of click throughs                                 | INTEGER    |\n",
    "| Unique Clickthroughs          | unique_clickthroughs  | the number of unique clickthroughs                            | INTEGER    |\n",
    "| Season                        | season                | the season                                                    | CHARACTER  |\n",
    "|                               | email_type            | the type of email: kbyg or post                               | CHARACTER  |\n",
    "\n",
    "\n",
    "\n",
    "### Email Clickthrough - Data Dictionary\n",
    "\n",
    "We will rename the columns to make them more code friendly. Find the data dictionary below. \n",
    "\n",
    "| Variable Name                 | Code Friendly Name    | Description                                                   | Field Type |\n",
    "|-------------------------------|-----------------------|---------------------------------------------------------------|------------|\n",
    "| Email Address                 | attendee_email        | email of the attendee of the game                             | CHARACTER  |\n",
    "| Clickthrough Link             | clickthrough_url      | clickthrough link/URL                                         | CHARACTER  |\n",
    "| Email Clickthrough Date/Time  | clickthrough_dt       | clickthrough date and time                                    | DATE       |\n",
    "| Email Name                    | email_name            | name of the email sent out                                   | CHARACTER  |\n",
    "| Total Clickthroughs           | total_clickthroughs   | total count of click throughs                                 | INTEGER    |\n",
    "| Email Send Date               | email_send_dt         | date and time the email was sent                              | DATE       |\n",
    "| Unique Clickthroughs          | unique_clickthroughs  | the number of unique clickthroughs                            | INTEGER    |\n",
    "| Clickthrough Link Count       | clickthrough_link_count  | ????                                                       | INTEGER    |\n",
    "| Season                        | season                | the season                                                    | CHARACTER  |\n",
    "|                               | email_type            | the type of email: kbyg or post                               | CHARACTER  |\n",
    "\n",
    "Since both data sets follow the same data structure we will concatenate the datasets. We have also added in a column to denote which type of email is sent. "
   ]
  },
  {
   "cell_type": "markdown",
   "metadata": {},
   "source": [
    "### Send Details Data Cleaning"
   ]
  },
  {
   "cell_type": "code",
   "execution_count": 254,
   "metadata": {},
   "outputs": [],
   "source": [
    "# Load data from CSV file\n",
    "#Email Address,  Clickthrough Link,  Email Clickthrough Date/Time,  Email Name,Total Clickthroughs,Email Send Date,Unique Clickthroughs,Clickthrough Link Count,Season\n",
    "\n",
    "df_kbyg_send = pd.read_csv(\"data/raw/Email Engagement Data/KBYG_Send Details_2223 and 2324 Seasons.csv\"\n",
    "                 , \n",
    "                    header = 0\n",
    "                )\n",
    "df_kbyg_send['email_type'] = 'kbyg'\n",
    "\n",
    "df_post_send = pd.read_csv(\"data/raw/Email Engagement Data/Postgame Email_Send Details_2223 and 2324 seasons.csv\"\n",
    "                 , \n",
    "\n",
    "                    header = 0\n",
    "                )\n",
    "df_post_send['email_type'] = 'post'\n",
    "\n",
    "if sum(df_kbyg_send.columns.isin(df_post_send.columns)) == len(df_kbyg_send.columns):\n",
    "    df_kbyg_send.columns =  [\n",
    "                        'email_send_dt', 'email_group', 'email_name', 'attendee_email',\n",
    "                        'total_sends', 'total_delivered', 'total_opens', 'unique_opens',\n",
    "                        'total_clickthroughs', 'unique_clickthroughs', 'season', 'email_type'\n",
    "    ]\n",
    "    df_post_send.columns =  [\n",
    "                        'email_send_dt', 'email_group', 'email_name', 'attendee_email',\n",
    "                        'total_sends', 'total_delivered', 'total_opens', 'unique_opens',\n",
    "                        'total_clickthroughs', 'unique_clickthroughs', 'season', 'email_type'\n",
    "    ]\n",
    "\n",
    "    df_emails_send = pd.concat([df_kbyg_send, df_post_send])\n",
    "\n",
    "    df_emails_send[\"email_send_dt\"] = pd.to_datetime(df_emails_send['email_send_dt'], format = \"%m/%d/%y %H:%M\")"
   ]
  },
  {
   "cell_type": "code",
   "execution_count": 255,
   "metadata": {},
   "outputs": [
    {
     "name": "stdout",
     "output_type": "stream",
     "text": [
      "<class 'pandas.core.frame.DataFrame'>\n",
      "Index: 628052 entries, 0 to 233577\n",
      "Data columns (total 12 columns):\n",
      " #   Column                Non-Null Count   Dtype         \n",
      "---  ------                --------------   -----         \n",
      " 0   email_send_dt         628052 non-null  datetime64[ns]\n",
      " 1   email_group           628052 non-null  object        \n",
      " 2   email_name            628052 non-null  object        \n",
      " 3   attendee_email        628052 non-null  object        \n",
      " 4   total_sends           627442 non-null  float64       \n",
      " 5   total_delivered       627096 non-null  float64       \n",
      " 6   total_opens           91879 non-null   float64       \n",
      " 7   unique_opens          628052 non-null  int64         \n",
      " 8   total_clickthroughs   27706 non-null   float64       \n",
      " 9   unique_clickthroughs  628052 non-null  int64         \n",
      " 10  season                628052 non-null  int64         \n",
      " 11  email_type            628052 non-null  object        \n",
      "dtypes: datetime64[ns](1), float64(4), int64(3), object(4)\n",
      "memory usage: 62.3+ MB\n"
     ]
    }
   ],
   "source": [
    "df_emails_send.info()"
   ]
  },
  {
   "cell_type": "markdown",
   "metadata": {},
   "source": [
    "Now we have to filter for just those emails that correspond to season ticket holders from the tickets data. "
   ]
  },
  {
   "cell_type": "code",
   "execution_count": 256,
   "metadata": {},
   "outputs": [],
   "source": [
    "df_season_emails_send = df_emails_send[df_emails_send['attendee_email'].isin(season_tickets['attendee_email'].unique())]"
   ]
  },
  {
   "cell_type": "code",
   "execution_count": 257,
   "metadata": {},
   "outputs": [
    {
     "name": "stdout",
     "output_type": "stream",
     "text": [
      "<class 'pandas.core.frame.DataFrame'>\n",
      "Index: 222264 entries, 0 to 233571\n",
      "Data columns (total 12 columns):\n",
      " #   Column                Non-Null Count   Dtype         \n",
      "---  ------                --------------   -----         \n",
      " 0   email_send_dt         222264 non-null  datetime64[ns]\n",
      " 1   email_group           222264 non-null  object        \n",
      " 2   email_name            222264 non-null  object        \n",
      " 3   attendee_email        222264 non-null  object        \n",
      " 4   total_sends           222201 non-null  float64       \n",
      " 5   total_delivered       222142 non-null  float64       \n",
      " 6   total_opens           29666 non-null   float64       \n",
      " 7   unique_opens          222264 non-null  int64         \n",
      " 8   total_clickthroughs   5561 non-null    float64       \n",
      " 9   unique_clickthroughs  222264 non-null  int64         \n",
      " 10  season                222264 non-null  int64         \n",
      " 11  email_type            222264 non-null  object        \n",
      "dtypes: datetime64[ns](1), float64(4), int64(3), object(4)\n",
      "memory usage: 22.0+ MB\n"
     ]
    }
   ],
   "source": [
    "df_season_emails_send.info()"
   ]
  },
  {
   "cell_type": "code",
   "execution_count": null,
   "metadata": {},
   "outputs": [],
   "source": []
  },
  {
   "cell_type": "markdown",
   "metadata": {},
   "source": [
    "### Clickthrough Data Cleaning"
   ]
  },
  {
   "cell_type": "code",
   "execution_count": 258,
   "metadata": {},
   "outputs": [],
   "source": [
    "# Load data from CSV file\n",
    "#Email Address,  Clickthrough Link,  Email Clickthrough Date/Time,  Email Name,Total Clickthroughs,Email Send Date,Unique Clickthroughs,Clickthrough Link Count,Season\n",
    "\n",
    "df_kbyg_ctr = pd.read_csv(\"data/raw/Email Engagement Data/KBYG Clickthrough Data_2223 and 2324 Seasons.csv\"\n",
    "                 , \n",
    "                      names = [\n",
    "                        'attendee_email', 'clickthrough_url', 'clickthrough_dt',\n",
    "                        'email_name', 'total_clickthroughs', 'email_send_dt',\n",
    "                        'unique_clickthroughs', 'clickthrough_link_count', 'season'\n",
    "                    ],\n",
    "                    header = 0\n",
    "                )\n",
    "df_kbyg_ctr['email_type'] = 'kbyg'\n",
    "\n",
    "df_post_ctr = pd.read_csv(\"data/raw/Email Engagement Data/Postgame Email Clickthrough_2223 and 2324 seasons.csv\"\n",
    "                 , \n",
    "                      names = [\n",
    "                        'attendee_email', 'clickthrough_url', 'clickthrough_dt',\n",
    "                        'email_name', 'total_clickthroughs', 'email_send_dt',\n",
    "                        'unique_clickthroughs', 'clickthrough_link_count', 'season'\n",
    "                    ],\n",
    "                    header = 0\n",
    "                )\n",
    "df_post_ctr['email_type'] = 'post'\n",
    "\n",
    "df_emails_ctr = pd.concat([df_kbyg_ctr, df_post_ctr])\n"
   ]
  },
  {
   "cell_type": "code",
   "execution_count": 259,
   "metadata": {},
   "outputs": [],
   "source": [
    "# Fix Date Data Types\n",
    "df_emails_ctr[\"clickthrough_dt\"] = pd.to_datetime(df_emails_ctr['clickthrough_dt'], format = \"%m/%d/%Y %H:%M\")\n",
    "df_emails_ctr[\"email_send_dt\"] = pd.to_datetime(df_emails_ctr['email_send_dt'], format = \"%m/%d/%Y %H:%M\")"
   ]
  },
  {
   "cell_type": "markdown",
   "metadata": {},
   "source": [
    "Now we have to filter for just those emails that correspond to season ticket holders from the tickets data. "
   ]
  },
  {
   "cell_type": "code",
   "execution_count": 260,
   "metadata": {},
   "outputs": [],
   "source": [
    "df_season_emails_ctr = df_emails_ctr[df_emails_ctr['attendee_email'].isin(season_tickets['attendee_email'].unique())]"
   ]
  },
  {
   "cell_type": "code",
   "execution_count": 261,
   "metadata": {},
   "outputs": [
    {
     "name": "stdout",
     "output_type": "stream",
     "text": [
      "<class 'pandas.core.frame.DataFrame'>\n",
      "Index: 8158 entries, 1 to 23372\n",
      "Data columns (total 10 columns):\n",
      " #   Column                   Non-Null Count  Dtype         \n",
      "---  ------                   --------------  -----         \n",
      " 0   attendee_email           8158 non-null   object        \n",
      " 1   clickthrough_url         8158 non-null   object        \n",
      " 2   clickthrough_dt          8158 non-null   datetime64[ns]\n",
      " 3   email_name               8158 non-null   object        \n",
      " 4   total_clickthroughs      8158 non-null   int64         \n",
      " 5   email_send_dt            8158 non-null   datetime64[ns]\n",
      " 6   unique_clickthroughs     8158 non-null   int64         \n",
      " 7   clickthrough_link_count  8158 non-null   int64         \n",
      " 8   season                   8158 non-null   int64         \n",
      " 9   email_type               8158 non-null   object        \n",
      "dtypes: datetime64[ns](2), int64(4), object(4)\n",
      "memory usage: 701.1+ KB\n"
     ]
    }
   ],
   "source": [
    "df_season_emails_ctr.info()"
   ]
  },
  {
   "cell_type": "code",
   "execution_count": null,
   "metadata": {},
   "outputs": [],
   "source": []
  },
  {
   "cell_type": "markdown",
   "metadata": {},
   "source": [
    "## Live Analytics Data Cleaning"
   ]
  },
  {
   "cell_type": "markdown",
   "metadata": {},
   "source": [
    "The Live Anlaytics contains demographic data for ticketholder attendees. \n",
    "\n",
    "See the data dictionary for relevant information. "
   ]
  },
  {
   "cell_type": "code",
   "execution_count": 296,
   "metadata": {},
   "outputs": [
    {
     "name": "stderr",
     "output_type": "stream",
     "text": [
      "/var/folders/3q/d621fwvs43q2f6s93g46njd00000gn/T/ipykernel_23269/2828382056.py:3: DtypeWarning: Columns (6) have mixed types. Specify dtype option on import or set low_memory=False.\n",
      "  df_liva24 = pd.read_csv(\"data/raw/LiveA Demographic Data/23-24 LiveA (Season Ticketholder Attendees).csv\")\n"
     ]
    }
   ],
   "source": [
    "df_liva23 = pd.read_csv(\"data/raw/LiveA Demographic Data/22-23 LiveA (Season Ticketholder Attendees).csv\")\n",
    "\n",
    "df_liva24 = pd.read_csv(\"data/raw/LiveA Demographic Data/23-24 LiveA (Season Ticketholder Attendees).csv\")\n",
    "\n",
    "#Check if all columns are the same in both data sets\n",
    "sum(df_liva23.columns.isin(df_liva24.columns)) == 253\n",
    "\n",
    "# Let's merge these two years together to get one data set\n",
    "df_liva23[\"year\"] = 2023\n",
    "df_liva24[\"year\"] = 2024\n",
    "df_liva = pd.concat([df_liva24, df_liva23])"
   ]
  },
  {
   "cell_type": "code",
   "execution_count": 297,
   "metadata": {},
   "outputs": [
    {
     "name": "stdout",
     "output_type": "stream",
     "text": [
      "Percent of Season Ticketholders who appear in the LivA data:  87.7 %\n",
      "Percent of Season Ticketholder Attendees who appear in the LivA data:  99.4 %\n"
     ]
    }
   ],
   "source": [
    "print(\"Percent of Season Ticketholders who appear in the LivA data: \", round(len(df_liva[df_liva['cust_email_addr'].isin(season_tickets['purchaser_email'].unique())]['cust_email_addr'].unique()) / len(season_tickets.purchaser_email.unique()), 3)*100, '%')\n",
    "print(\"Percent of Season Ticketholder Attendees who appear in the LivA data: \", round(len(df_liva[df_liva['cust_email_addr'].isin(season_tickets['attendee_email'].unique())]['cust_email_addr'].unique()) / len(season_tickets.attendee_email.unique()), 3)*100, '%')"
   ]
  },
  {
   "cell_type": "code",
   "execution_count": 298,
   "metadata": {},
   "outputs": [
    {
     "name": "stdout",
     "output_type": "stream",
     "text": [
      "attendee_email\n",
      "nadeem@bastefinancial.com            5\n",
      "Msandoval31488@yahoo.com             5\n",
      "bosterzac@gmail.com                  5\n",
      "rwehman@stepan.com                   5\n",
      "chris.vonehrenkrook@singlesrc.com    5\n",
      "                                    ..\n",
      "raeruder@comcast.net                 4\n",
      "glynwaddell53@gmail.com              4\n",
      "caballo43@gmail.com                  4\n",
      "mgacek@alvarezandmarsal.com          4\n",
      "kwisla@yahoo.com                     4\n",
      "Name: count, Length: 3068, dtype: int64\n"
     ]
    }
   ],
   "source": [
    "value_counts = season_tickets['attendee_email'].value_counts()\n",
    "filtered_counts = value_counts[(value_counts >= 4) & (value_counts <= 5)]\n",
    "print(filtered_counts)"
   ]
  },
  {
   "cell_type": "code",
   "execution_count": 299,
   "metadata": {},
   "outputs": [
    {
     "data": {
      "text/html": [
       "<div>\n",
       "<style scoped>\n",
       "    .dataframe tbody tr th:only-of-type {\n",
       "        vertical-align: middle;\n",
       "    }\n",
       "\n",
       "    .dataframe tbody tr th {\n",
       "        vertical-align: top;\n",
       "    }\n",
       "\n",
       "    .dataframe thead th {\n",
       "        text-align: right;\n",
       "    }\n",
       "</style>\n",
       "<table border=\"1\" class=\"dataframe\">\n",
       "  <thead>\n",
       "    <tr style=\"text-align: right;\">\n",
       "      <th></th>\n",
       "      <th>season_name</th>\n",
       "      <th>event_date</th>\n",
       "      <th>event_weekday</th>\n",
       "      <th>opponent_short</th>\n",
       "      <th>parent_ticket_categories</th>\n",
       "      <th>add_date</th>\n",
       "      <th>days_before_event</th>\n",
       "      <th>purchaser_email</th>\n",
       "      <th>total_seats</th>\n",
       "      <th>seat_location</th>\n",
       "      <th>seat_level</th>\n",
       "      <th>arrival_time</th>\n",
       "      <th>attendee_email</th>\n",
       "      <th>attendee_zip_code</th>\n",
       "      <th>mobile_scan</th>\n",
       "      <th>scan_category</th>\n",
       "    </tr>\n",
       "  </thead>\n",
       "  <tbody>\n",
       "    <tr>\n",
       "      <th>476353</th>\n",
       "      <td>2023-2024 Chicago Bulls</td>\n",
       "      <td>2023-11-03</td>\n",
       "      <td>Fri</td>\n",
       "      <td>Nets</td>\n",
       "      <td>Season</td>\n",
       "      <td>2023-06-12</td>\n",
       "      <td>144</td>\n",
       "      <td>Mike.Torra@marmonrail.com</td>\n",
       "      <td>4</td>\n",
       "      <td>200 Level</td>\n",
       "      <td>Club Level</td>\n",
       "      <td>2023-11-03 18:57:00</td>\n",
       "      <td>kwisla@yahoo.com</td>\n",
       "      <td>60641</td>\n",
       "      <td>True</td>\n",
       "      <td>Web Browser</td>\n",
       "    </tr>\n",
       "    <tr>\n",
       "      <th>520136</th>\n",
       "      <td>2023-2024 Chicago Bulls</td>\n",
       "      <td>2023-12-23</td>\n",
       "      <td>Sat</td>\n",
       "      <td>Cavs</td>\n",
       "      <td>Season</td>\n",
       "      <td>2023-06-12</td>\n",
       "      <td>194</td>\n",
       "      <td>Mike.Torra@marmonrail.com</td>\n",
       "      <td>1</td>\n",
       "      <td>200 Level</td>\n",
       "      <td>Club Level</td>\n",
       "      <td>2023-12-23 19:30:00</td>\n",
       "      <td>kwisla@yahoo.com</td>\n",
       "      <td>60641</td>\n",
       "      <td>True</td>\n",
       "      <td>Web Browser</td>\n",
       "    </tr>\n",
       "    <tr>\n",
       "      <th>520137</th>\n",
       "      <td>2023-2024 Chicago Bulls</td>\n",
       "      <td>2023-12-23</td>\n",
       "      <td>Sat</td>\n",
       "      <td>Cavs</td>\n",
       "      <td>Season</td>\n",
       "      <td>2023-06-12</td>\n",
       "      <td>194</td>\n",
       "      <td>Mike.Torra@marmonrail.com</td>\n",
       "      <td>1</td>\n",
       "      <td>200 Level</td>\n",
       "      <td>Club Level</td>\n",
       "      <td>2023-12-23 19:46:00</td>\n",
       "      <td>kwisla@yahoo.com</td>\n",
       "      <td>60641</td>\n",
       "      <td>True</td>\n",
       "      <td>Web Browser</td>\n",
       "    </tr>\n",
       "    <tr>\n",
       "      <th>520138</th>\n",
       "      <td>2023-2024 Chicago Bulls</td>\n",
       "      <td>2023-12-23</td>\n",
       "      <td>Sat</td>\n",
       "      <td>Cavs</td>\n",
       "      <td>Season</td>\n",
       "      <td>2023-06-12</td>\n",
       "      <td>194</td>\n",
       "      <td>Mike.Torra@marmonrail.com</td>\n",
       "      <td>2</td>\n",
       "      <td>200 Level</td>\n",
       "      <td>Club Level</td>\n",
       "      <td>2023-12-23 19:31:00</td>\n",
       "      <td>kwisla@yahoo.com</td>\n",
       "      <td>60641</td>\n",
       "      <td>True</td>\n",
       "      <td>Web Browser</td>\n",
       "    </tr>\n",
       "  </tbody>\n",
       "</table>\n",
       "</div>"
      ],
      "text/plain": [
       "                    season_name event_date event_weekday opponent_short  \\\n",
       "476353  2023-2024 Chicago Bulls 2023-11-03           Fri           Nets   \n",
       "520136  2023-2024 Chicago Bulls 2023-12-23           Sat           Cavs   \n",
       "520137  2023-2024 Chicago Bulls 2023-12-23           Sat           Cavs   \n",
       "520138  2023-2024 Chicago Bulls 2023-12-23           Sat           Cavs   \n",
       "\n",
       "       parent_ticket_categories   add_date  days_before_event  \\\n",
       "476353                   Season 2023-06-12                144   \n",
       "520136                   Season 2023-06-12                194   \n",
       "520137                   Season 2023-06-12                194   \n",
       "520138                   Season 2023-06-12                194   \n",
       "\n",
       "                  purchaser_email  total_seats seat_location  seat_level  \\\n",
       "476353  Mike.Torra@marmonrail.com            4     200 Level  Club Level   \n",
       "520136  Mike.Torra@marmonrail.com            1     200 Level  Club Level   \n",
       "520137  Mike.Torra@marmonrail.com            1     200 Level  Club Level   \n",
       "520138  Mike.Torra@marmonrail.com            2     200 Level  Club Level   \n",
       "\n",
       "              arrival_time    attendee_email attendee_zip_code  mobile_scan  \\\n",
       "476353 2023-11-03 18:57:00  kwisla@yahoo.com             60641         True   \n",
       "520136 2023-12-23 19:30:00  kwisla@yahoo.com             60641         True   \n",
       "520137 2023-12-23 19:46:00  kwisla@yahoo.com             60641         True   \n",
       "520138 2023-12-23 19:31:00  kwisla@yahoo.com             60641         True   \n",
       "\n",
       "       scan_category  \n",
       "476353   Web Browser  \n",
       "520136   Web Browser  \n",
       "520137   Web Browser  \n",
       "520138   Web Browser  "
      ]
     },
     "execution_count": 299,
     "metadata": {},
     "output_type": "execute_result"
    }
   ],
   "source": [
    "season_tickets[season_tickets['attendee_email'] == \"kwisla@yahoo.com\"]"
   ]
  },
  {
   "cell_type": "code",
   "execution_count": 306,
   "metadata": {},
   "outputs": [
    {
     "data": {
      "text/html": [
       "<div>\n",
       "<style scoped>\n",
       "    .dataframe tbody tr th:only-of-type {\n",
       "        vertical-align: middle;\n",
       "    }\n",
       "\n",
       "    .dataframe tbody tr th {\n",
       "        vertical-align: top;\n",
       "    }\n",
       "\n",
       "    .dataframe thead th {\n",
       "        text-align: right;\n",
       "    }\n",
       "</style>\n",
       "<table border=\"1\" class=\"dataframe\">\n",
       "  <thead>\n",
       "    <tr style=\"text-align: right;\">\n",
       "      <th></th>\n",
       "      <th>season_name</th>\n",
       "      <th>event_date</th>\n",
       "      <th>event_weekday</th>\n",
       "      <th>opponent_short</th>\n",
       "      <th>parent_ticket_categories</th>\n",
       "      <th>add_date</th>\n",
       "      <th>days_before_event</th>\n",
       "      <th>purchaser_email</th>\n",
       "      <th>total_seats</th>\n",
       "      <th>seat_location</th>\n",
       "      <th>seat_level</th>\n",
       "      <th>arrival_time</th>\n",
       "      <th>attendee_email</th>\n",
       "      <th>attendee_zip_code</th>\n",
       "      <th>mobile_scan</th>\n",
       "      <th>scan_category</th>\n",
       "    </tr>\n",
       "  </thead>\n",
       "  <tbody>\n",
       "    <tr>\n",
       "      <th>315471</th>\n",
       "      <td>2022-2023 Chicago Bulls</td>\n",
       "      <td>2022-10-24</td>\n",
       "      <td>Mon</td>\n",
       "      <td>Celtics</td>\n",
       "      <td>Season</td>\n",
       "      <td>2022-02-23</td>\n",
       "      <td>243</td>\n",
       "      <td>mfish325@aol.com</td>\n",
       "      <td>4</td>\n",
       "      <td>100 Level Center</td>\n",
       "      <td>Lower Level</td>\n",
       "      <td>2022-10-24 18:17:00</td>\n",
       "      <td>11scruggs.cornelius@gmail.com</td>\n",
       "      <td>60803</td>\n",
       "      <td>True</td>\n",
       "      <td>Web Browser</td>\n",
       "    </tr>\n",
       "    <tr>\n",
       "      <th>459496</th>\n",
       "      <td>2023-2024 Chicago Bulls</td>\n",
       "      <td>2023-10-12</td>\n",
       "      <td>Thu</td>\n",
       "      <td>Nuggets</td>\n",
       "      <td>Season</td>\n",
       "      <td>2023-02-01</td>\n",
       "      <td>253</td>\n",
       "      <td>carl.mcferren@aeroscm.com</td>\n",
       "      <td>2</td>\n",
       "      <td>100 Level Center</td>\n",
       "      <td>Lower Level</td>\n",
       "      <td>2023-10-12 18:37:00</td>\n",
       "      <td>11scruggs.cornelius@gmail.com</td>\n",
       "      <td>60803</td>\n",
       "      <td>True</td>\n",
       "      <td>TM / LiveNation App</td>\n",
       "    </tr>\n",
       "    <tr>\n",
       "      <th>465993</th>\n",
       "      <td>2023-2024 Chicago Bulls</td>\n",
       "      <td>2023-10-19</td>\n",
       "      <td>Thu</td>\n",
       "      <td>Timberwolves</td>\n",
       "      <td>Season</td>\n",
       "      <td>2023-02-01</td>\n",
       "      <td>260</td>\n",
       "      <td>Tylerdrocks@aol.com</td>\n",
       "      <td>2</td>\n",
       "      <td>100 Level Center</td>\n",
       "      <td>Lower Level</td>\n",
       "      <td>2023-10-19 19:41:00</td>\n",
       "      <td>11scruggs.cornelius@gmail.com</td>\n",
       "      <td>60803</td>\n",
       "      <td>True</td>\n",
       "      <td>TM / LiveNation App</td>\n",
       "    </tr>\n",
       "    <tr>\n",
       "      <th>468913</th>\n",
       "      <td>2023-2024 Chicago Bulls</td>\n",
       "      <td>2023-10-25</td>\n",
       "      <td>Wed</td>\n",
       "      <td>Thunder</td>\n",
       "      <td>Season</td>\n",
       "      <td>2023-02-01</td>\n",
       "      <td>266</td>\n",
       "      <td>picfive.dp@gmail.com</td>\n",
       "      <td>1</td>\n",
       "      <td>100 Level Center</td>\n",
       "      <td>Lower Level</td>\n",
       "      <td>2023-10-25 18:58:00</td>\n",
       "      <td>11scruggs.cornelius@gmail.com</td>\n",
       "      <td>60803</td>\n",
       "      <td>True</td>\n",
       "      <td>Web Browser</td>\n",
       "    </tr>\n",
       "    <tr>\n",
       "      <th>481539</th>\n",
       "      <td>2023-2024 Chicago Bulls</td>\n",
       "      <td>2023-11-08</td>\n",
       "      <td>Wed</td>\n",
       "      <td>Suns</td>\n",
       "      <td>Season</td>\n",
       "      <td>2023-02-01</td>\n",
       "      <td>280</td>\n",
       "      <td>Oradent4444@gmail.com</td>\n",
       "      <td>2</td>\n",
       "      <td>100 Level End</td>\n",
       "      <td>Lower Level</td>\n",
       "      <td>2023-11-08 18:25:00</td>\n",
       "      <td>11scruggs.cornelius@gmail.com</td>\n",
       "      <td>60803</td>\n",
       "      <td>True</td>\n",
       "      <td>Web Browser</td>\n",
       "    </tr>\n",
       "    <tr>\n",
       "      <th>493204</th>\n",
       "      <td>2023-2024 Chicago Bulls</td>\n",
       "      <td>2023-11-18</td>\n",
       "      <td>Sat</td>\n",
       "      <td>Heat</td>\n",
       "      <td>Season</td>\n",
       "      <td>2023-02-01</td>\n",
       "      <td>290</td>\n",
       "      <td>friedsam.home@gmail.com</td>\n",
       "      <td>2</td>\n",
       "      <td>100 Level End</td>\n",
       "      <td>Lower Level</td>\n",
       "      <td>2023-11-18 17:37:00</td>\n",
       "      <td>11scruggs.cornelius@gmail.com</td>\n",
       "      <td>60803</td>\n",
       "      <td>True</td>\n",
       "      <td>Web Browser</td>\n",
       "    </tr>\n",
       "    <tr>\n",
       "      <th>495997</th>\n",
       "      <td>2023-2024 Chicago Bulls</td>\n",
       "      <td>2023-11-20</td>\n",
       "      <td>Mon</td>\n",
       "      <td>Heat</td>\n",
       "      <td>Season</td>\n",
       "      <td>2023-02-01</td>\n",
       "      <td>292</td>\n",
       "      <td>bestofficials@hotmail.com</td>\n",
       "      <td>2</td>\n",
       "      <td>100 Level End</td>\n",
       "      <td>Lower Level</td>\n",
       "      <td>2023-11-20 18:14:00</td>\n",
       "      <td>11scruggs.cornelius@gmail.com</td>\n",
       "      <td>60803</td>\n",
       "      <td>True</td>\n",
       "      <td>Web Browser</td>\n",
       "    </tr>\n",
       "    <tr>\n",
       "      <th>505351</th>\n",
       "      <td>2023-2024 Chicago Bulls</td>\n",
       "      <td>2023-12-06</td>\n",
       "      <td>Wed</td>\n",
       "      <td>Hornets</td>\n",
       "      <td>Season</td>\n",
       "      <td>2023-02-01</td>\n",
       "      <td>308</td>\n",
       "      <td>chrisnba06@aol.com</td>\n",
       "      <td>2</td>\n",
       "      <td>100 Level Center</td>\n",
       "      <td>Lower Level</td>\n",
       "      <td>2023-12-06 19:09:00</td>\n",
       "      <td>11scruggs.cornelius@gmail.com</td>\n",
       "      <td>60803</td>\n",
       "      <td>True</td>\n",
       "      <td>Web Browser</td>\n",
       "    </tr>\n",
       "  </tbody>\n",
       "</table>\n",
       "</div>"
      ],
      "text/plain": [
       "                    season_name event_date event_weekday opponent_short  \\\n",
       "315471  2022-2023 Chicago Bulls 2022-10-24           Mon        Celtics   \n",
       "459496  2023-2024 Chicago Bulls 2023-10-12           Thu        Nuggets   \n",
       "465993  2023-2024 Chicago Bulls 2023-10-19           Thu   Timberwolves   \n",
       "468913  2023-2024 Chicago Bulls 2023-10-25           Wed        Thunder   \n",
       "481539  2023-2024 Chicago Bulls 2023-11-08           Wed           Suns   \n",
       "493204  2023-2024 Chicago Bulls 2023-11-18           Sat           Heat   \n",
       "495997  2023-2024 Chicago Bulls 2023-11-20           Mon           Heat   \n",
       "505351  2023-2024 Chicago Bulls 2023-12-06           Wed        Hornets   \n",
       "\n",
       "       parent_ticket_categories   add_date  days_before_event  \\\n",
       "315471                   Season 2022-02-23                243   \n",
       "459496                   Season 2023-02-01                253   \n",
       "465993                   Season 2023-02-01                260   \n",
       "468913                   Season 2023-02-01                266   \n",
       "481539                   Season 2023-02-01                280   \n",
       "493204                   Season 2023-02-01                290   \n",
       "495997                   Season 2023-02-01                292   \n",
       "505351                   Season 2023-02-01                308   \n",
       "\n",
       "                  purchaser_email  total_seats     seat_location   seat_level  \\\n",
       "315471           mfish325@aol.com            4  100 Level Center  Lower Level   \n",
       "459496  carl.mcferren@aeroscm.com            2  100 Level Center  Lower Level   \n",
       "465993        Tylerdrocks@aol.com            2  100 Level Center  Lower Level   \n",
       "468913       picfive.dp@gmail.com            1  100 Level Center  Lower Level   \n",
       "481539      Oradent4444@gmail.com            2     100 Level End  Lower Level   \n",
       "493204    friedsam.home@gmail.com            2     100 Level End  Lower Level   \n",
       "495997  bestofficials@hotmail.com            2     100 Level End  Lower Level   \n",
       "505351         chrisnba06@aol.com            2  100 Level Center  Lower Level   \n",
       "\n",
       "              arrival_time                 attendee_email attendee_zip_code  \\\n",
       "315471 2022-10-24 18:17:00  11scruggs.cornelius@gmail.com             60803   \n",
       "459496 2023-10-12 18:37:00  11scruggs.cornelius@gmail.com             60803   \n",
       "465993 2023-10-19 19:41:00  11scruggs.cornelius@gmail.com             60803   \n",
       "468913 2023-10-25 18:58:00  11scruggs.cornelius@gmail.com             60803   \n",
       "481539 2023-11-08 18:25:00  11scruggs.cornelius@gmail.com             60803   \n",
       "493204 2023-11-18 17:37:00  11scruggs.cornelius@gmail.com             60803   \n",
       "495997 2023-11-20 18:14:00  11scruggs.cornelius@gmail.com             60803   \n",
       "505351 2023-12-06 19:09:00  11scruggs.cornelius@gmail.com             60803   \n",
       "\n",
       "        mobile_scan        scan_category  \n",
       "315471         True          Web Browser  \n",
       "459496         True  TM / LiveNation App  \n",
       "465993         True  TM / LiveNation App  \n",
       "468913         True          Web Browser  \n",
       "481539         True          Web Browser  \n",
       "493204         True          Web Browser  \n",
       "495997         True          Web Browser  \n",
       "505351         True          Web Browser  "
      ]
     },
     "execution_count": 306,
     "metadata": {},
     "output_type": "execute_result"
    }
   ],
   "source": [
    "season_tickets[season_tickets['attendee_email'] == \"11scruggs.cornelius@gmail.com\"]\n"
   ]
  },
  {
   "cell_type": "markdown",
   "metadata": {},
   "source": [
    "### Now we will go through all the columns and clean them up"
   ]
  },
  {
   "cell_type": "code",
   "execution_count": 300,
   "metadata": {},
   "outputs": [],
   "source": [
    "# One hot encoding all the household age indicators \n",
    "columns_to_convert = df_liva.columns[20:56]\n",
    "df_liva[columns_to_convert] = df_liva[columns_to_convert].fillna(0).astype(bool)\n",
    "\n",
    "# Add additional columns to convert to bool by name\n",
    "col = 'suprs_mail_dma_cd'\n",
    "df_liva[col] = df_liva[col].fillna(0).replace('N', True).astype(bool)\n",
    "\n",
    "col = 'wrk_wmn_hh_flg'\n",
    "df_liva[col] = df_liva[col].fillna(0).replace('Y', True).astype(bool)\n",
    "\n",
    "columns_to_convert = df_liva.columns[71:82]\n",
    "df_liva[columns_to_convert] = df_liva[columns_to_convert].astype('boolean')\n",
    "\n",
    "columns_to_convert = df_liva.columns[88:112]\n",
    "df_liva[columns_to_convert] = df_liva[columns_to_convert].astype('boolean')\n",
    "\n"
   ]
  },
  {
   "cell_type": "code",
   "execution_count": 301,
   "metadata": {},
   "outputs": [],
   "source": [
    "# Editing income columns and making it all numerical 'est_hh_inc_cd_100pct_inc_cd'\n",
    "# Define the mapping dictionary\n",
    "mapping_dict = {1: '1', 2: '2', 3: '3', 4: '4', 5: '5', 6: '6', 7: '7', 8: '8', 9: '9',\n",
    "                'A': '10', 'B': '11', 'C': '12', 'D': '13', 'E': '14', 'F': '15', 'G': '16',\n",
    "                'H': '17', 'I': '18', 'J': '19'}\n",
    "\n",
    "cols_to_map = ['income_est_hh_cd','est_hh_inc_higher_ranges_cd', 'est_hh_inc_narrow_ranges_cd', 'est_hh_inc_cd_100pct_inc_cd', 'net_worth_gold_cd']\n",
    "# Edit the values of columns using mapping_dict\n",
    "for col in cols_to_map:\n",
    "    df_liva[col] = df_liva[col].map(mapping_dict)\n"
   ]
  },
  {
   "cell_type": "code",
   "execution_count": 302,
   "metadata": {},
   "outputs": [],
   "source": [
    "date_cols = ['e3_sale_dt_max', 'e3_event_dt_max', 'client_sale_dt_min', 'client_sale_dt_max']\n",
    "for col in date_cols:\n",
    "    df_liva[col] = pd.to_datetime(df_liva[col], format = \"%m/%d/%y\")"
   ]
  },
  {
   "cell_type": "code",
   "execution_count": 305,
   "metadata": {},
   "outputs": [
    {
     "data": {
      "text/html": [
       "<div>\n",
       "<style scoped>\n",
       "    .dataframe tbody tr th:only-of-type {\n",
       "        vertical-align: middle;\n",
       "    }\n",
       "\n",
       "    .dataframe tbody tr th {\n",
       "        vertical-align: top;\n",
       "    }\n",
       "\n",
       "    .dataframe thead th {\n",
       "        text-align: right;\n",
       "    }\n",
       "</style>\n",
       "<table border=\"1\" class=\"dataframe\">\n",
       "  <thead>\n",
       "    <tr style=\"text-align: right;\">\n",
       "      <th></th>\n",
       "      <th>brkr_ind</th>\n",
       "      <th>e3_sale_dt_max</th>\n",
       "      <th>e3_event_dt_max</th>\n",
       "      <th>e3_events_cnt</th>\n",
       "      <th>e3_tkt_qty_avg</th>\n",
       "      <th>e3_spend_total</th>\n",
       "      <th>e3_spend_per_event</th>\n",
       "      <th>e3_tkt_price_avg</th>\n",
       "      <th>e3_tkt_price_min</th>\n",
       "      <th>e3_tkt_price_max</th>\n",
       "      <th>e3_txpr_pctile</th>\n",
       "      <th>e3_tran_platinum_ind</th>\n",
       "      <th>e3_tran_type_primary_ind</th>\n",
       "      <th>e3_tran_type_resale_ind</th>\n",
       "      <th>e3_ancil_parking_ind</th>\n",
       "      <th>e3_ancil_upsell_ind</th>\n",
       "    </tr>\n",
       "  </thead>\n",
       "  <tbody>\n",
       "    <tr>\n",
       "      <th>count</th>\n",
       "      <td>91610.000000</td>\n",
       "      <td>91610</td>\n",
       "      <td>91610</td>\n",
       "      <td>91610.000000</td>\n",
       "      <td>90735.000000</td>\n",
       "      <td>91610.000000</td>\n",
       "      <td>91610.000000</td>\n",
       "      <td>90735.000000</td>\n",
       "      <td>90735.000000</td>\n",
       "      <td>90735.000000</td>\n",
       "      <td>73878.000000</td>\n",
       "      <td>91610.000000</td>\n",
       "      <td>91610.000000</td>\n",
       "      <td>91610.000000</td>\n",
       "      <td>91610.000000</td>\n",
       "      <td>91610.000000</td>\n",
       "    </tr>\n",
       "    <tr>\n",
       "      <th>mean</th>\n",
       "      <td>0.005840</td>\n",
       "      <td>2021-07-13 07:41:40.626569472</td>\n",
       "      <td>2021-09-04 06:05:20.192118784</td>\n",
       "      <td>3.214038</td>\n",
       "      <td>2.578532</td>\n",
       "      <td>1135.846517</td>\n",
       "      <td>324.921837</td>\n",
       "      <td>129.643508</td>\n",
       "      <td>84.694767</td>\n",
       "      <td>198.728748</td>\n",
       "      <td>0.551437</td>\n",
       "      <td>0.079009</td>\n",
       "      <td>0.838085</td>\n",
       "      <td>0.472219</td>\n",
       "      <td>0.090776</td>\n",
       "      <td>0.037289</td>\n",
       "    </tr>\n",
       "    <tr>\n",
       "      <th>min</th>\n",
       "      <td>0.000000</td>\n",
       "      <td>2003-01-02 00:00:00</td>\n",
       "      <td>2003-01-11 00:00:00</td>\n",
       "      <td>1.000000</td>\n",
       "      <td>1.000000</td>\n",
       "      <td>2.000000</td>\n",
       "      <td>2.000000</td>\n",
       "      <td>1.000000</td>\n",
       "      <td>1.000000</td>\n",
       "      <td>1.000000</td>\n",
       "      <td>0.000000</td>\n",
       "      <td>0.000000</td>\n",
       "      <td>0.000000</td>\n",
       "      <td>0.000000</td>\n",
       "      <td>0.000000</td>\n",
       "      <td>0.000000</td>\n",
       "    </tr>\n",
       "    <tr>\n",
       "      <th>25%</th>\n",
       "      <td>0.000000</td>\n",
       "      <td>2021-06-23 00:00:00</td>\n",
       "      <td>2021-09-04 00:00:00</td>\n",
       "      <td>1.000000</td>\n",
       "      <td>2.000000</td>\n",
       "      <td>199.000000</td>\n",
       "      <td>120.000000</td>\n",
       "      <td>54.450000</td>\n",
       "      <td>29.500000</td>\n",
       "      <td>67.000000</td>\n",
       "      <td>0.390000</td>\n",
       "      <td>0.000000</td>\n",
       "      <td>1.000000</td>\n",
       "      <td>0.000000</td>\n",
       "      <td>0.000000</td>\n",
       "      <td>0.000000</td>\n",
       "    </tr>\n",
       "    <tr>\n",
       "      <th>50%</th>\n",
       "      <td>0.000000</td>\n",
       "      <td>2022-12-04 00:00:00</td>\n",
       "      <td>2022-12-31 00:00:00</td>\n",
       "      <td>2.000000</td>\n",
       "      <td>2.000000</td>\n",
       "      <td>470.000000</td>\n",
       "      <td>215.500000</td>\n",
       "      <td>91.750000</td>\n",
       "      <td>51.500000</td>\n",
       "      <td>126.000000</td>\n",
       "      <td>0.540000</td>\n",
       "      <td>0.000000</td>\n",
       "      <td>1.000000</td>\n",
       "      <td>0.000000</td>\n",
       "      <td>0.000000</td>\n",
       "      <td>0.000000</td>\n",
       "    </tr>\n",
       "    <tr>\n",
       "      <th>75%</th>\n",
       "      <td>0.000000</td>\n",
       "      <td>2023-04-28 00:00:00</td>\n",
       "      <td>2023-07-22 00:00:00</td>\n",
       "      <td>4.000000</td>\n",
       "      <td>3.000000</td>\n",
       "      <td>1100.000000</td>\n",
       "      <td>380.000000</td>\n",
       "      <td>155.000000</td>\n",
       "      <td>99.000000</td>\n",
       "      <td>227.000000</td>\n",
       "      <td>0.730000</td>\n",
       "      <td>0.000000</td>\n",
       "      <td>1.000000</td>\n",
       "      <td>1.000000</td>\n",
       "      <td>0.000000</td>\n",
       "      <td>0.000000</td>\n",
       "    </tr>\n",
       "    <tr>\n",
       "      <th>max</th>\n",
       "      <td>1.000000</td>\n",
       "      <td>2024-03-18 00:00:00</td>\n",
       "      <td>2026-02-25 00:00:00</td>\n",
       "      <td>2291.000000</td>\n",
       "      <td>40.000000</td>\n",
       "      <td>549449.460000</td>\n",
       "      <td>25004.000000</td>\n",
       "      <td>12502.000000</td>\n",
       "      <td>12502.000000</td>\n",
       "      <td>22500.000000</td>\n",
       "      <td>1.000000</td>\n",
       "      <td>1.000000</td>\n",
       "      <td>1.000000</td>\n",
       "      <td>1.000000</td>\n",
       "      <td>1.000000</td>\n",
       "      <td>1.000000</td>\n",
       "    </tr>\n",
       "    <tr>\n",
       "      <th>std</th>\n",
       "      <td>0.076197</td>\n",
       "      <td>NaN</td>\n",
       "      <td>NaN</td>\n",
       "      <td>10.645404</td>\n",
       "      <td>1.229136</td>\n",
       "      <td>4402.450071</td>\n",
       "      <td>434.428673</td>\n",
       "      <td>159.271434</td>\n",
       "      <td>128.654450</td>\n",
       "      <td>328.371569</td>\n",
       "      <td>0.232441</td>\n",
       "      <td>0.269754</td>\n",
       "      <td>0.368374</td>\n",
       "      <td>0.499230</td>\n",
       "      <td>0.287292</td>\n",
       "      <td>0.189469</td>\n",
       "    </tr>\n",
       "  </tbody>\n",
       "</table>\n",
       "</div>"
      ],
      "text/plain": [
       "           brkr_ind                 e3_sale_dt_max  \\\n",
       "count  91610.000000                          91610   \n",
       "mean       0.005840  2021-07-13 07:41:40.626569472   \n",
       "min        0.000000            2003-01-02 00:00:00   \n",
       "25%        0.000000            2021-06-23 00:00:00   \n",
       "50%        0.000000            2022-12-04 00:00:00   \n",
       "75%        0.000000            2023-04-28 00:00:00   \n",
       "max        1.000000            2024-03-18 00:00:00   \n",
       "std        0.076197                            NaN   \n",
       "\n",
       "                     e3_event_dt_max  e3_events_cnt  e3_tkt_qty_avg  \\\n",
       "count                          91610   91610.000000    90735.000000   \n",
       "mean   2021-09-04 06:05:20.192118784       3.214038        2.578532   \n",
       "min              2003-01-11 00:00:00       1.000000        1.000000   \n",
       "25%              2021-09-04 00:00:00       1.000000        2.000000   \n",
       "50%              2022-12-31 00:00:00       2.000000        2.000000   \n",
       "75%              2023-07-22 00:00:00       4.000000        3.000000   \n",
       "max              2026-02-25 00:00:00    2291.000000       40.000000   \n",
       "std                              NaN      10.645404        1.229136   \n",
       "\n",
       "       e3_spend_total  e3_spend_per_event  e3_tkt_price_avg  e3_tkt_price_min  \\\n",
       "count    91610.000000        91610.000000      90735.000000      90735.000000   \n",
       "mean      1135.846517          324.921837        129.643508         84.694767   \n",
       "min          2.000000            2.000000          1.000000          1.000000   \n",
       "25%        199.000000          120.000000         54.450000         29.500000   \n",
       "50%        470.000000          215.500000         91.750000         51.500000   \n",
       "75%       1100.000000          380.000000        155.000000         99.000000   \n",
       "max     549449.460000        25004.000000      12502.000000      12502.000000   \n",
       "std       4402.450071          434.428673        159.271434        128.654450   \n",
       "\n",
       "       e3_tkt_price_max  e3_txpr_pctile  e3_tran_platinum_ind  \\\n",
       "count      90735.000000    73878.000000          91610.000000   \n",
       "mean         198.728748        0.551437              0.079009   \n",
       "min            1.000000        0.000000              0.000000   \n",
       "25%           67.000000        0.390000              0.000000   \n",
       "50%          126.000000        0.540000              0.000000   \n",
       "75%          227.000000        0.730000              0.000000   \n",
       "max        22500.000000        1.000000              1.000000   \n",
       "std          328.371569        0.232441              0.269754   \n",
       "\n",
       "       e3_tran_type_primary_ind  e3_tran_type_resale_ind  \\\n",
       "count              91610.000000             91610.000000   \n",
       "mean                   0.838085                 0.472219   \n",
       "min                    0.000000                 0.000000   \n",
       "25%                    1.000000                 0.000000   \n",
       "50%                    1.000000                 0.000000   \n",
       "75%                    1.000000                 1.000000   \n",
       "max                    1.000000                 1.000000   \n",
       "std                    0.368374                 0.499230   \n",
       "\n",
       "       e3_ancil_parking_ind  e3_ancil_upsell_ind  \n",
       "count          91610.000000         91610.000000  \n",
       "mean               0.090776             0.037289  \n",
       "min                0.000000             0.000000  \n",
       "25%                0.000000             0.000000  \n",
       "50%                0.000000             0.000000  \n",
       "75%                0.000000             0.000000  \n",
       "max                1.000000             1.000000  \n",
       "std                0.287292             0.189469  "
      ]
     },
     "execution_count": 305,
     "metadata": {},
     "output_type": "execute_result"
    }
   ],
   "source": [
    "sample = df_liva.iloc[:, 145:161]\n",
    "sample.describe(include='all')"
   ]
  },
  {
   "cell_type": "code",
   "execution_count": 289,
   "metadata": {},
   "outputs": [
    {
     "name": "stdout",
     "output_type": "stream",
     "text": [
      "['cust_source_cd', 'la_id', 'ult_party_id', 'acct_id', 'race_cd', 'client_walkup_buyer_ind', 'ca_avg_hh_income', 'ca_median_hh_income', 'ca_disposable_inc', 'ca_discretionary_inc', 'ca_hs_rec_tot_spend', 'ca_hs_rec_ent', 'ca_hs_rec_ent_movie', 'ca_hs_rec_ent_livesports', 'ca_hs_rec_ent_livearts', 'ca_hs_rec_ent_museum', 'ca_hs_rec_ent_cablesat', 'ca_hs_rec_equip_sport', 'ca_hs_rec_equip_toy', 'ca_hs_rec_equip_videogame', 'ca_hs_rec_equip_artist', 'ca_hs_rec_equip_computer', 'ca_hs_rec_photography', 'ca_hs_rec_rec_vehicle', 'ca_hs_rec_home_ent', 'prizm_id', 'prizm_nm', 'prizmsg_cd', 'prizmsg_nm', 'prizmls_cd', 'prizmls_nm']\n"
     ]
    },
    {
     "data": {
      "text/plain": [
       "223"
      ]
     },
     "execution_count": 289,
     "metadata": {},
     "output_type": "execute_result"
    }
   ],
   "source": [
    "# Get the column names for specific indices\n",
    "indices = list(range(117, 117+25))  # all the canada columns\n",
    "column_names = list(df_liva.columns[indices])\n",
    "\n",
    "cols2drop = ['cust_source_cd', 'la_id', 'ult_party_id', 'acct_id', 'race_cd', 'client_walkup_buyer_ind'] + column_names\n",
    "print(cols2drop)\n",
    "\n",
    "# Check if columns in cols2drop list exist in the DataFrame\n",
    "existing_cols = [col for col in cols2drop if col in df_liva.columns]\n",
    "\n",
    "# Drop the existing columns from the DataFrame\n",
    "df_liva.drop(existing_cols, axis=1, inplace=True)\n",
    "\n",
    "len(df_liva.columns)\n"
   ]
  },
  {
   "cell_type": "code",
   "execution_count": 314,
   "metadata": {},
   "outputs": [],
   "source": [
    "#fix zip codes as string\n",
    "df_liva['cust_postal_cd'] = df_liva['cust_postal_cd'].astype(str)"
   ]
  },
  {
   "cell_type": "code",
   "execution_count": 315,
   "metadata": {},
   "outputs": [
    {
     "ename": "CalledProcessError",
     "evalue": "Command 'b'sample = df_liva.iloc[:, 250:254]\\nsample.info()\\n'' returned non-zero exit status 1.",
     "output_type": "error",
     "traceback": [
      "\u001b[0;31m---------------------------------------------------------------------------\u001b[0m",
      "\u001b[0;31mCalledProcessError\u001b[0m                        Traceback (most recent call last)",
      "Cell \u001b[0;32mIn[315], line 1\u001b[0m\n\u001b[0;32m----> 1\u001b[0m get_ipython()\u001b[38;5;241m.\u001b[39mrun_cell_magic(\u001b[38;5;124m'\u001b[39m\u001b[38;5;124mscript\u001b[39m\u001b[38;5;124m'\u001b[39m, \u001b[38;5;124m'\u001b[39m\u001b[38;5;124mfalse\u001b[39m\u001b[38;5;124m'\u001b[39m, \u001b[38;5;124m'\u001b[39m\u001b[38;5;124msample = df_liva.iloc[:, 250:254]\u001b[39m\u001b[38;5;130;01m\\n\u001b[39;00m\u001b[38;5;124msample.info()\u001b[39m\u001b[38;5;130;01m\\n\u001b[39;00m\u001b[38;5;124m'\u001b[39m)\n",
      "File \u001b[0;32m~/anaconda3/envs/bulls2/lib/python3.12/site-packages/IPython/core/interactiveshell.py:2517\u001b[0m, in \u001b[0;36mInteractiveShell.run_cell_magic\u001b[0;34m(self, magic_name, line, cell)\u001b[0m\n\u001b[1;32m   2515\u001b[0m \u001b[38;5;28;01mwith\u001b[39;00m \u001b[38;5;28mself\u001b[39m\u001b[38;5;241m.\u001b[39mbuiltin_trap:\n\u001b[1;32m   2516\u001b[0m     args \u001b[38;5;241m=\u001b[39m (magic_arg_s, cell)\n\u001b[0;32m-> 2517\u001b[0m     result \u001b[38;5;241m=\u001b[39m fn(\u001b[38;5;241m*\u001b[39margs, \u001b[38;5;241m*\u001b[39m\u001b[38;5;241m*\u001b[39mkwargs)\n\u001b[1;32m   2519\u001b[0m \u001b[38;5;66;03m# The code below prevents the output from being displayed\u001b[39;00m\n\u001b[1;32m   2520\u001b[0m \u001b[38;5;66;03m# when using magics with decorator @output_can_be_silenced\u001b[39;00m\n\u001b[1;32m   2521\u001b[0m \u001b[38;5;66;03m# when the last Python token in the expression is a ';'.\u001b[39;00m\n\u001b[1;32m   2522\u001b[0m \u001b[38;5;28;01mif\u001b[39;00m \u001b[38;5;28mgetattr\u001b[39m(fn, magic\u001b[38;5;241m.\u001b[39mMAGIC_OUTPUT_CAN_BE_SILENCED, \u001b[38;5;28;01mFalse\u001b[39;00m):\n",
      "File \u001b[0;32m~/anaconda3/envs/bulls2/lib/python3.12/site-packages/IPython/core/magics/script.py:314\u001b[0m, in \u001b[0;36mScriptMagics.shebang\u001b[0;34m(self, line, cell)\u001b[0m\n\u001b[1;32m    309\u001b[0m \u001b[38;5;28;01mif\u001b[39;00m args\u001b[38;5;241m.\u001b[39mraise_error \u001b[38;5;129;01mand\u001b[39;00m p\u001b[38;5;241m.\u001b[39mreturncode \u001b[38;5;241m!=\u001b[39m \u001b[38;5;241m0\u001b[39m:\n\u001b[1;32m    310\u001b[0m     \u001b[38;5;66;03m# If we get here and p.returncode is still None, we must have\u001b[39;00m\n\u001b[1;32m    311\u001b[0m     \u001b[38;5;66;03m# killed it but not yet seen its return code. We don't wait for it,\u001b[39;00m\n\u001b[1;32m    312\u001b[0m     \u001b[38;5;66;03m# in case it's stuck in uninterruptible sleep. -9 = SIGKILL\u001b[39;00m\n\u001b[1;32m    313\u001b[0m     rc \u001b[38;5;241m=\u001b[39m p\u001b[38;5;241m.\u001b[39mreturncode \u001b[38;5;129;01mor\u001b[39;00m \u001b[38;5;241m-\u001b[39m\u001b[38;5;241m9\u001b[39m\n\u001b[0;32m--> 314\u001b[0m     \u001b[38;5;28;01mraise\u001b[39;00m CalledProcessError(rc, cell)\n",
      "\u001b[0;31mCalledProcessError\u001b[0m: Command 'b'sample = df_liva.iloc[:, 250:254]\\nsample.info()\\n'' returned non-zero exit status 1."
     ]
    }
   ],
   "source": [
    "%%script false\n",
    "sample = df_liva.iloc[:, 250:254]\n",
    "sample.info()"
   ]
  },
  {
   "cell_type": "code",
   "execution_count": 316,
   "metadata": {},
   "outputs": [
    {
     "ename": "CalledProcessError",
     "evalue": "Command 'b'sample.head()\\n'' returned non-zero exit status 1.",
     "output_type": "error",
     "traceback": [
      "\u001b[0;31m---------------------------------------------------------------------------\u001b[0m",
      "\u001b[0;31mCalledProcessError\u001b[0m                        Traceback (most recent call last)",
      "Cell \u001b[0;32mIn[316], line 1\u001b[0m\n\u001b[0;32m----> 1\u001b[0m get_ipython()\u001b[38;5;241m.\u001b[39mrun_cell_magic(\u001b[38;5;124m'\u001b[39m\u001b[38;5;124mscript\u001b[39m\u001b[38;5;124m'\u001b[39m, \u001b[38;5;124m'\u001b[39m\u001b[38;5;124mfalse\u001b[39m\u001b[38;5;124m'\u001b[39m, \u001b[38;5;124m'\u001b[39m\u001b[38;5;124msample.head()\u001b[39m\u001b[38;5;130;01m\\n\u001b[39;00m\u001b[38;5;124m'\u001b[39m)\n",
      "File \u001b[0;32m~/anaconda3/envs/bulls2/lib/python3.12/site-packages/IPython/core/interactiveshell.py:2517\u001b[0m, in \u001b[0;36mInteractiveShell.run_cell_magic\u001b[0;34m(self, magic_name, line, cell)\u001b[0m\n\u001b[1;32m   2515\u001b[0m \u001b[38;5;28;01mwith\u001b[39;00m \u001b[38;5;28mself\u001b[39m\u001b[38;5;241m.\u001b[39mbuiltin_trap:\n\u001b[1;32m   2516\u001b[0m     args \u001b[38;5;241m=\u001b[39m (magic_arg_s, cell)\n\u001b[0;32m-> 2517\u001b[0m     result \u001b[38;5;241m=\u001b[39m fn(\u001b[38;5;241m*\u001b[39margs, \u001b[38;5;241m*\u001b[39m\u001b[38;5;241m*\u001b[39mkwargs)\n\u001b[1;32m   2519\u001b[0m \u001b[38;5;66;03m# The code below prevents the output from being displayed\u001b[39;00m\n\u001b[1;32m   2520\u001b[0m \u001b[38;5;66;03m# when using magics with decorator @output_can_be_silenced\u001b[39;00m\n\u001b[1;32m   2521\u001b[0m \u001b[38;5;66;03m# when the last Python token in the expression is a ';'.\u001b[39;00m\n\u001b[1;32m   2522\u001b[0m \u001b[38;5;28;01mif\u001b[39;00m \u001b[38;5;28mgetattr\u001b[39m(fn, magic\u001b[38;5;241m.\u001b[39mMAGIC_OUTPUT_CAN_BE_SILENCED, \u001b[38;5;28;01mFalse\u001b[39;00m):\n",
      "File \u001b[0;32m~/anaconda3/envs/bulls2/lib/python3.12/site-packages/IPython/core/magics/script.py:314\u001b[0m, in \u001b[0;36mScriptMagics.shebang\u001b[0;34m(self, line, cell)\u001b[0m\n\u001b[1;32m    309\u001b[0m \u001b[38;5;28;01mif\u001b[39;00m args\u001b[38;5;241m.\u001b[39mraise_error \u001b[38;5;129;01mand\u001b[39;00m p\u001b[38;5;241m.\u001b[39mreturncode \u001b[38;5;241m!=\u001b[39m \u001b[38;5;241m0\u001b[39m:\n\u001b[1;32m    310\u001b[0m     \u001b[38;5;66;03m# If we get here and p.returncode is still None, we must have\u001b[39;00m\n\u001b[1;32m    311\u001b[0m     \u001b[38;5;66;03m# killed it but not yet seen its return code. We don't wait for it,\u001b[39;00m\n\u001b[1;32m    312\u001b[0m     \u001b[38;5;66;03m# in case it's stuck in uninterruptible sleep. -9 = SIGKILL\u001b[39;00m\n\u001b[1;32m    313\u001b[0m     rc \u001b[38;5;241m=\u001b[39m p\u001b[38;5;241m.\u001b[39mreturncode \u001b[38;5;129;01mor\u001b[39;00m \u001b[38;5;241m-\u001b[39m\u001b[38;5;241m9\u001b[39m\n\u001b[0;32m--> 314\u001b[0m     \u001b[38;5;28;01mraise\u001b[39;00m CalledProcessError(rc, cell)\n",
      "\u001b[0;31mCalledProcessError\u001b[0m: Command 'b'sample.head()\\n'' returned non-zero exit status 1."
     ]
    }
   ],
   "source": [
    "%%script false\n",
    "sample.head()"
   ]
  },
  {
   "cell_type": "code",
   "execution_count": 235,
   "metadata": {},
   "outputs": [
    {
     "data": {
      "text/html": [
       "<div>\n",
       "<style scoped>\n",
       "    .dataframe tbody tr th:only-of-type {\n",
       "        vertical-align: middle;\n",
       "    }\n",
       "\n",
       "    .dataframe tbody tr th {\n",
       "        vertical-align: top;\n",
       "    }\n",
       "\n",
       "    .dataframe thead th {\n",
       "        text-align: right;\n",
       "    }\n",
       "</style>\n",
       "<table border=\"1\" class=\"dataframe\">\n",
       "  <thead>\n",
       "    <tr style=\"text-align: right;\">\n",
       "      <th></th>\n",
       "      <th>client_event_cnt</th>\n",
       "      <th>client_tkt</th>\n",
       "      <th>client_sp</th>\n",
       "      <th>client_sale_dt_min</th>\n",
       "      <th>client_sale_dt_max</th>\n",
       "      <th>client_pe_tkt_cnt</th>\n",
       "      <th>client_pe_sp</th>\n",
       "      <th>client_tkt_price</th>\n",
       "      <th>client_tkt_price_max</th>\n",
       "      <th>client_tkt_price_min</th>\n",
       "      <th>client_walkup_buyer_ind</th>\n",
       "    </tr>\n",
       "  </thead>\n",
       "  <tbody>\n",
       "    <tr>\n",
       "      <th>count</th>\n",
       "      <td>92227.000000</td>\n",
       "      <td>92227.000000</td>\n",
       "      <td>92227.000000</td>\n",
       "      <td>40916</td>\n",
       "      <td>40916</td>\n",
       "      <td>40371.000000</td>\n",
       "      <td>40916.000000</td>\n",
       "      <td>40371.000000</td>\n",
       "      <td>40371.000000</td>\n",
       "      <td>40371.000000</td>\n",
       "      <td>0.0</td>\n",
       "    </tr>\n",
       "    <tr>\n",
       "      <th>mean</th>\n",
       "      <td>0.921151</td>\n",
       "      <td>2.386622</td>\n",
       "      <td>362.307442</td>\n",
       "      <td>2018-03-23 00:12:50.749828864</td>\n",
       "      <td>2020-02-28 07:08:31.369635328</td>\n",
       "      <td>2.584563</td>\n",
       "      <td>373.465637</td>\n",
       "      <td>151.265606</td>\n",
       "      <td>180.875485</td>\n",
       "      <td>128.713320</td>\n",
       "      <td>NaN</td>\n",
       "    </tr>\n",
       "    <tr>\n",
       "      <th>min</th>\n",
       "      <td>0.000000</td>\n",
       "      <td>0.000000</td>\n",
       "      <td>0.000000</td>\n",
       "      <td>2005-10-02 00:00:00</td>\n",
       "      <td>2005-10-05 00:00:00</td>\n",
       "      <td>1.000000</td>\n",
       "      <td>5.000000</td>\n",
       "      <td>5.000000</td>\n",
       "      <td>5.000000</td>\n",
       "      <td>4.250000</td>\n",
       "      <td>NaN</td>\n",
       "    </tr>\n",
       "    <tr>\n",
       "      <th>25%</th>\n",
       "      <td>0.000000</td>\n",
       "      <td>0.000000</td>\n",
       "      <td>0.000000</td>\n",
       "      <td>2012-11-03 00:00:00</td>\n",
       "      <td>2017-01-23 00:00:00</td>\n",
       "      <td>2.000000</td>\n",
       "      <td>156.000000</td>\n",
       "      <td>68.990000</td>\n",
       "      <td>76.000000</td>\n",
       "      <td>50.000000</td>\n",
       "      <td>NaN</td>\n",
       "    </tr>\n",
       "    <tr>\n",
       "      <th>50%</th>\n",
       "      <td>0.000000</td>\n",
       "      <td>0.000000</td>\n",
       "      <td>0.000000</td>\n",
       "      <td>2021-11-22 00:00:00</td>\n",
       "      <td>2022-11-09 00:00:00</td>\n",
       "      <td>2.000000</td>\n",
       "      <td>260.000000</td>\n",
       "      <td>110.000000</td>\n",
       "      <td>129.000000</td>\n",
       "      <td>90.000000</td>\n",
       "      <td>NaN</td>\n",
       "    </tr>\n",
       "    <tr>\n",
       "      <th>75%</th>\n",
       "      <td>1.000000</td>\n",
       "      <td>2.000000</td>\n",
       "      <td>315.000000</td>\n",
       "      <td>2023-01-14 00:00:00</td>\n",
       "      <td>2023-03-03 00:00:00</td>\n",
       "      <td>3.000000</td>\n",
       "      <td>437.440000</td>\n",
       "      <td>180.000000</td>\n",
       "      <td>210.000000</td>\n",
       "      <td>154.000000</td>\n",
       "      <td>NaN</td>\n",
       "    </tr>\n",
       "    <tr>\n",
       "      <th>max</th>\n",
       "      <td>115.000000</td>\n",
       "      <td>1352.000000</td>\n",
       "      <td>155742.680000</td>\n",
       "      <td>2024-03-17 00:00:00</td>\n",
       "      <td>2024-03-18 00:00:00</td>\n",
       "      <td>34.400000</td>\n",
       "      <td>19188.640000</td>\n",
       "      <td>7500.000000</td>\n",
       "      <td>7500.000000</td>\n",
       "      <td>7500.000000</td>\n",
       "      <td>NaN</td>\n",
       "    </tr>\n",
       "    <tr>\n",
       "      <th>std</th>\n",
       "      <td>2.220435</td>\n",
       "      <td>10.609643</td>\n",
       "      <td>1666.677298</td>\n",
       "      <td>NaN</td>\n",
       "      <td>NaN</td>\n",
       "      <td>1.315669</td>\n",
       "      <td>451.109989</td>\n",
       "      <td>165.550752</td>\n",
       "      <td>222.328582</td>\n",
       "      <td>155.603112</td>\n",
       "      <td>NaN</td>\n",
       "    </tr>\n",
       "  </tbody>\n",
       "</table>\n",
       "</div>"
      ],
      "text/plain": [
       "       client_event_cnt    client_tkt      client_sp  \\\n",
       "count      92227.000000  92227.000000   92227.000000   \n",
       "mean           0.921151      2.386622     362.307442   \n",
       "min            0.000000      0.000000       0.000000   \n",
       "25%            0.000000      0.000000       0.000000   \n",
       "50%            0.000000      0.000000       0.000000   \n",
       "75%            1.000000      2.000000     315.000000   \n",
       "max          115.000000   1352.000000  155742.680000   \n",
       "std            2.220435     10.609643    1666.677298   \n",
       "\n",
       "                  client_sale_dt_min             client_sale_dt_max  \\\n",
       "count                          40916                          40916   \n",
       "mean   2018-03-23 00:12:50.749828864  2020-02-28 07:08:31.369635328   \n",
       "min              2005-10-02 00:00:00            2005-10-05 00:00:00   \n",
       "25%              2012-11-03 00:00:00            2017-01-23 00:00:00   \n",
       "50%              2021-11-22 00:00:00            2022-11-09 00:00:00   \n",
       "75%              2023-01-14 00:00:00            2023-03-03 00:00:00   \n",
       "max              2024-03-17 00:00:00            2024-03-18 00:00:00   \n",
       "std                              NaN                            NaN   \n",
       "\n",
       "       client_pe_tkt_cnt  client_pe_sp  client_tkt_price  \\\n",
       "count       40371.000000  40916.000000      40371.000000   \n",
       "mean            2.584563    373.465637        151.265606   \n",
       "min             1.000000      5.000000          5.000000   \n",
       "25%             2.000000    156.000000         68.990000   \n",
       "50%             2.000000    260.000000        110.000000   \n",
       "75%             3.000000    437.440000        180.000000   \n",
       "max            34.400000  19188.640000       7500.000000   \n",
       "std             1.315669    451.109989        165.550752   \n",
       "\n",
       "       client_tkt_price_max  client_tkt_price_min  client_walkup_buyer_ind  \n",
       "count          40371.000000          40371.000000                      0.0  \n",
       "mean             180.875485            128.713320                      NaN  \n",
       "min                5.000000              4.250000                      NaN  \n",
       "25%               76.000000             50.000000                      NaN  \n",
       "50%              129.000000             90.000000                      NaN  \n",
       "75%              210.000000            154.000000                      NaN  \n",
       "max             7500.000000           7500.000000                      NaN  \n",
       "std              222.328582            155.603112                      NaN  "
      ]
     },
     "execution_count": 235,
     "metadata": {},
     "output_type": "execute_result"
    }
   ],
   "source": [
    "%%script false\n",
    "sample.describe(include='all')"
   ]
  },
  {
   "cell_type": "code",
   "execution_count": 161,
   "metadata": {},
   "outputs": [
    {
     "data": {
      "image/png": "[encoded data removed]",
      "text/plain": [
       "<Figure size 1200x800 with 5 Axes>"
      ]
     },
     "metadata": {},
     "output_type": "display_data"
    }
   ],
   "source": [
    "%%script false\n",
    "plt.figure(figsize=(12, 8))\n",
    "\n",
    "plt.subplot(2, 3, 1)\n",
    "df_liva['income_est_hh_cd'].value_counts().sort_index().plot(kind='bar')\n",
    "plt.title('income_est_hh_cd')\n",
    "\n",
    "plt.subplot(2, 3, 2)\n",
    "df_liva['est_hh_inc_higher_ranges_cd'].value_counts().sort_index().plot(kind='bar')\n",
    "plt.title('est_hh_inc_higher_ranges_cd')\n",
    "\n",
    "plt.subplot(2, 3, 3)\n",
    "df_liva['est_hh_inc_narrow_ranges_cd'].value_counts().sort_index().plot(kind='bar')\n",
    "plt.title('est_hh_inc_narrow_ranges_cd')\n",
    "\n",
    "plt.subplot(2, 3, 4)\n",
    "df_liva['est_hh_inc_cd_100pct_inc_cd'].value_counts().sort_index().plot(kind='bar')\n",
    "plt.title('est_hh_inc_cd_100pct_inc_cd')\n",
    "\n",
    "plt.subplot(2, 3, 5)\n",
    "df_liva['net_worth_gold_cd'].value_counts().sort_index().plot(kind='bar')\n",
    "plt.title('net_worth_gold_cd')\n",
    "\n",
    "plt.tight_layout()\n",
    "plt.show()\n",
    "\n",
    "\n"
   ]
  },
  {
   "cell_type": "code",
   "execution_count": 183,
   "metadata": {},
   "outputs": [
    {
     "data": {
      "image/png": "[encoded data removed]",
      "text/plain": [
       "<Figure size 1200x800 with 3 Axes>"
      ]
     },
     "metadata": {},
     "output_type": "display_data"
    }
   ],
   "source": [
    "%%script false\n",
    "plt.figure(figsize=(12, 8))\n",
    "\n",
    "plt.subplot(2, 3, 1)\n",
    "df_liva.iloc[:, 82:83].value_counts().sort_index().plot(kind='bar')\n",
    "plt.title('Column 82')\n",
    "\n",
    "plt.subplot(2, 3, 2)\n",
    "df_liva.iloc[:, 83:84].value_counts().sort_index().plot(kind='bar')\n",
    "plt.title('Column 83')\n",
    "\n",
    "plt.subplot(2, 3, 3)\n",
    "df_liva.iloc[:, 84:85].value_counts().sort_index().plot(kind='bar')\n",
    "plt.title('Column 84')\n",
    "\n",
    "plt.tight_layout()\n",
    "plt.show()"
   ]
  },
  {
   "cell_type": "markdown",
   "metadata": {},
   "source": []
  },
  {
   "cell_type": "markdown",
   "metadata": {},
   "source": [
    "Filter for season ticketholder attendees"
   ]
  },
  {
   "cell_type": "code",
   "execution_count": 317,
   "metadata": {},
   "outputs": [],
   "source": [
    "df_season_liva = df_liva[df_liva['cust_email_addr'].isin(season_tickets['attendee_email']) | df_liva['cust_email_addr'].isin(season_tickets['purchaser_email'])]\n"
   ]
  },
  {
   "cell_type": "code",
   "execution_count": 318,
   "metadata": {},
   "outputs": [
    {
     "data": {
      "text/plain": [
       "128514"
      ]
     },
     "execution_count": 318,
     "metadata": {},
     "output_type": "execute_result"
    }
   ],
   "source": [
    "len(df_season_liva)"
   ]
  },
  {
   "cell_type": "code",
   "execution_count": 319,
   "metadata": {},
   "outputs": [
    {
     "data": {
      "text/plain": [
       "128900"
      ]
     },
     "execution_count": 319,
     "metadata": {},
     "output_type": "execute_result"
    }
   ],
   "source": [
    "len(df_liva)"
   ]
  },
  {
   "cell_type": "markdown",
   "metadata": {},
   "source": [
    "##  Promotional Data"
   ]
  },
  {
   "cell_type": "code",
   "execution_count": 320,
   "metadata": {},
   "outputs": [],
   "source": [
    "df_promos = pd.read_csv(\"data/raw/Bulls Theme + Giveaway Schedules.csv\"\n",
    "                        ,\n",
    "                        names = ['event_date', 'opponent', 'start_ct', 'dameday_offer', 'primary_theme_partner', 'giveaway_partner', 'item_of_the_game']\n",
    "                        , header = 0\n",
    "                        )\n",
    "df_promos['event_date'] = pd.to_datetime(df_promos['event_date'], format = \"%m/%d/%y\")"
   ]
  },
  {
   "cell_type": "code",
   "execution_count": 321,
   "metadata": {},
   "outputs": [
    {
     "name": "stdout",
     "output_type": "stream",
     "text": [
      "<class 'pandas.core.frame.DataFrame'>\n",
      "RangeIndex: 966 entries, 0 to 965\n",
      "Data columns (total 7 columns):\n",
      " #   Column                 Non-Null Count  Dtype         \n",
      "---  ------                 --------------  -----         \n",
      " 0   event_date             80 non-null     datetime64[ns]\n",
      " 1   opponent               80 non-null     object        \n",
      " 2   start_ct               80 non-null     object        \n",
      " 3   dameday_offer          10 non-null     object        \n",
      " 4   primary_theme_partner  58 non-null     object        \n",
      " 5   giveaway_partner       32 non-null     object        \n",
      " 6   item_of_the_game       80 non-null     object        \n",
      "dtypes: datetime64[ns](1), object(6)\n",
      "memory usage: 53.0+ KB\n"
     ]
    }
   ],
   "source": [
    "df_promos.info()"
   ]
  },
  {
   "cell_type": "code",
   "execution_count": 322,
   "metadata": {},
   "outputs": [
    {
     "data": {
      "text/html": [
       "<div>\n",
       "<style scoped>\n",
       "    .dataframe tbody tr th:only-of-type {\n",
       "        vertical-align: middle;\n",
       "    }\n",
       "\n",
       "    .dataframe tbody tr th {\n",
       "        vertical-align: top;\n",
       "    }\n",
       "\n",
       "    .dataframe thead th {\n",
       "        text-align: right;\n",
       "    }\n",
       "</style>\n",
       "<table border=\"1\" class=\"dataframe\">\n",
       "  <thead>\n",
       "    <tr style=\"text-align: right;\">\n",
       "      <th></th>\n",
       "      <th>event_date</th>\n",
       "      <th>opponent</th>\n",
       "      <th>start_ct</th>\n",
       "      <th>dameday_offer</th>\n",
       "      <th>primary_theme_partner</th>\n",
       "      <th>giveaway_partner</th>\n",
       "      <th>item_of_the_game</th>\n",
       "    </tr>\n",
       "  </thead>\n",
       "  <tbody>\n",
       "    <tr>\n",
       "      <th>0</th>\n",
       "      <td>2022-10-04</td>\n",
       "      <td>New Orleans</td>\n",
       "      <td>8:30 PM</td>\n",
       "      <td>NaN</td>\n",
       "      <td>Windy City Bulls Night</td>\n",
       "      <td>NaN</td>\n",
       "      <td>PRIMARY LOGO TEES</td>\n",
       "    </tr>\n",
       "    <tr>\n",
       "      <th>1</th>\n",
       "      <td>2022-10-07</td>\n",
       "      <td>Denver</td>\n",
       "      <td>7:00 PM</td>\n",
       "      <td>NaN</td>\n",
       "      <td>NaN</td>\n",
       "      <td>NaN</td>\n",
       "      <td>PRIMARY LOGO TEES</td>\n",
       "    </tr>\n",
       "    <tr>\n",
       "      <th>2</th>\n",
       "      <td>2022-10-11</td>\n",
       "      <td>Milwaukee</td>\n",
       "      <td>7:00 PM</td>\n",
       "      <td>NaN</td>\n",
       "      <td>NaN</td>\n",
       "      <td>NaN</td>\n",
       "      <td>POSTCARD TEES</td>\n",
       "    </tr>\n",
       "    <tr>\n",
       "      <th>3</th>\n",
       "      <td>2022-10-22</td>\n",
       "      <td>Cleveland</td>\n",
       "      <td>7:00 PM</td>\n",
       "      <td>NaN</td>\n",
       "      <td>Home Opener (AT&amp;T)</td>\n",
       "      <td>T-Shirt (AT&amp;T)</td>\n",
       "      <td>Sportiqe Chicago Script Hoodie</td>\n",
       "    </tr>\n",
       "    <tr>\n",
       "      <th>4</th>\n",
       "      <td>2022-10-24</td>\n",
       "      <td>Boston</td>\n",
       "      <td>7:00 PM</td>\n",
       "      <td>Starting Five Menu</td>\n",
       "      <td>NaN</td>\n",
       "      <td>NaN</td>\n",
       "      <td>PRIMARY LOGO TEES</td>\n",
       "    </tr>\n",
       "  </tbody>\n",
       "</table>\n",
       "</div>"
      ],
      "text/plain": [
       "  event_date     opponent start_ct       dameday_offer  \\\n",
       "0 2022-10-04  New Orleans  8:30 PM                 NaN   \n",
       "1 2022-10-07       Denver  7:00 PM                 NaN   \n",
       "2 2022-10-11   Milwaukee   7:00 PM                 NaN   \n",
       "3 2022-10-22   Cleveland   7:00 PM                 NaN   \n",
       "4 2022-10-24       Boston  7:00 PM  Starting Five Menu   \n",
       "\n",
       "    primary_theme_partner giveaway_partner                item_of_the_game  \n",
       "0  Windy City Bulls Night              NaN               PRIMARY LOGO TEES  \n",
       "1                     NaN              NaN               PRIMARY LOGO TEES  \n",
       "2                     NaN              NaN                   POSTCARD TEES  \n",
       "3      Home Opener (AT&T)   T-Shirt (AT&T)  Sportiqe Chicago Script Hoodie  \n",
       "4                     NaN              NaN               PRIMARY LOGO TEES  "
      ]
     },
     "execution_count": 322,
     "metadata": {},
     "output_type": "execute_result"
    }
   ],
   "source": [
    "df_promos.head()"
   ]
  },
  {
   "cell_type": "code",
   "execution_count": null,
   "metadata": {},
   "outputs": [],
   "source": []
  },
  {
   "cell_type": "markdown",
   "metadata": {},
   "source": [
    "## Export Data"
   ]
  },
  {
   "cell_type": "code",
   "execution_count": 307,
   "metadata": {},
   "outputs": [],
   "source": [
    "season_tickets.to_csv('data/processed/season_tickets.csv', index = False)\n",
    "home_games.to_csv('data/processed/home_games.csv', index = False)\n",
    "df_season_emails_send.to_csv('data/processed/season_email_send.csv', index = False)\n",
    "df_season_emails_ctr.to_csv('data/processed/season_email_ctr.csv', index = False)\n",
    "df_season_liva.to_csv('data/processed/season_liva.csv', index = False)"
   ]
  },
  {
   "cell_type": "code",
   "execution_count": 324,
   "metadata": {},
   "outputs": [],
   "source": [
    "season_tickets.to_parquet('data/processed/season_tickets.parquet', index=False)\n",
    "home_games.to_parquet('data/processed/home_games.parquet', index=False)\n",
    "df_season_emails_send.to_parquet('data/processed/season_email_send.parquet', index=False)\n",
    "df_season_emails_ctr.to_parquet('data/processed/season_email_ctr.parquet', index=False)\n",
    "df_season_liva.to_parquet('data/processed/liv_a.parquet', index=False)"
   ]
  },
  {
   "cell_type": "markdown",
   "metadata": {},
   "source": []
  }
 ],
 "metadata": {
  "kernelspec": {
   "display_name": "bulls2",
   "language": "python",
   "name": "python3"
  },
  "language_info": {
   "codemirror_mode": {
    "name": "ipython",
    "version": 3
   },
   "file_extension": ".py",
   "mimetype": "text/x-python",
   "name": "python",
   "nbconvert_exporter": "python",
   "pygments_lexer": "ipython3",
   "version": "3.12.2"
  }
 },
 "nbformat": 4,
 "nbformat_minor": 2
}
