{
 "cells": [
  {
   "cell_type": "markdown",
   "metadata": {},
   "source": [
    "# Exploratory Data Analysis"
   ]
  },
  {
   "cell_type": "code",
   "execution_count": 1,
   "metadata": {},
   "outputs": [],
   "source": [
    "import pandas as pd\n",
    "import pyarrow\n",
    "import os\n",
    "import matplotlib.pyplot as plt\n",
    "folder_path = os.getenv(\"MY_WORKSPACE\", 'empty') + '/acl_spring_24_bulls2'\n",
    "os.chdir(folder_path)\n",
    "\n"
   ]
  },
  {
   "cell_type": "markdown",
   "metadata": {},
   "source": [
    "## Import and Merge Data"
   ]
  },
  {
   "cell_type": "code",
   "execution_count": 2,
   "metadata": {},
   "outputs": [],
   "source": [
    "# Read the parquet files\n",
    "tickets = pd.read_parquet('data/processed/season_tickets.parquet')\n",
    "games = pd.read_parquet('data/processed/home_games.parquet')\n",
    "email_sends = pd.read_parquet('data/processed/season_email_send.parquet')\n",
    "email_ctrs = pd.read_parquet('data/processed/season_email_ctr.parquet')\n",
    "liva = pd.read_parquet('data/processed/liv_a.parquet')"
   ]
  },
  {
   "cell_type": "code",
   "execution_count": 3,
   "metadata": {},
   "outputs": [],
   "source": [
    "tickets_games = pd.merge(tickets, games, on = \"event_date\", how = \"left\")"
   ]
  },
  {
   "cell_type": "code",
   "execution_count": 10,
   "metadata": {},
   "outputs": [
    {
     "data": {
      "text/plain": [
       "270086"
      ]
     },
     "execution_count": 10,
     "metadata": {},
     "output_type": "execute_result"
    }
   ],
   "source": [
    "len(tickets_games)"
   ]
  },
  {
   "cell_type": "code",
   "execution_count": 4,
   "metadata": {},
   "outputs": [
    {
     "name": "stdout",
     "output_type": "stream",
     "text": [
      "<class 'pandas.core.frame.DataFrame'>\n",
      "RangeIndex: 270086 entries, 0 to 270085\n",
      "Data columns (total 28 columns):\n",
      " #   Column                    Non-Null Count   Dtype         \n",
      "---  ------                    --------------   -----         \n",
      " 0   season_name_x             270086 non-null  object        \n",
      " 1   event_date                270086 non-null  datetime64[ns]\n",
      " 2   event_weekday             270086 non-null  object        \n",
      " 3   opponent_short            270086 non-null  object        \n",
      " 4   parent_ticket_categories  270086 non-null  object        \n",
      " 5   add_date                  270086 non-null  datetime64[ns]\n",
      " 6   days_before_event         270086 non-null  int64         \n",
      " 7   purchaser_email           268908 non-null  object        \n",
      " 8   total_seats               270086 non-null  int64         \n",
      " 9   seat_location             270086 non-null  object        \n",
      " 10  seat_level                270086 non-null  object        \n",
      " 11  arrival_time              237206 non-null  datetime64[ns]\n",
      " 12  attendee_email            236956 non-null  object        \n",
      " 13  attendee_zip_code         201700 non-null  object        \n",
      " 14  mobile_scan               270086 non-null  bool          \n",
      " 15  scan_category             270086 non-null  object        \n",
      " 16  season_name_y             252814 non-null  object        \n",
      " 17  G                         252814 non-null  float64       \n",
      " 18  start_ct                  252814 non-null  datetime64[ns]\n",
      " 19  Opponent                  252814 non-null  object        \n",
      " 20  outcome                   252814 non-null  object        \n",
      " 21  overtime                  252814 non-null  object        \n",
      " 22  pts                       252814 non-null  float64       \n",
      " 23  pts_all                   252814 non-null  float64       \n",
      " 24  W                         252814 non-null  float64       \n",
      " 25  L                         252814 non-null  float64       \n",
      " 26  Streak                    252814 non-null  object        \n",
      " 27  Notes                     6158 non-null    object        \n",
      "dtypes: bool(1), datetime64[ns](4), float64(5), int64(2), object(16)\n",
      "memory usage: 55.9+ MB\n"
     ]
    }
   ],
   "source": [
    "tickets_games.info()"
   ]
  },
  {
   "cell_type": "code",
   "execution_count": 5,
   "metadata": {},
   "outputs": [
    {
     "data": {
      "text/plain": [
       "Index(['cust_city_nm', 'cust_state_nm', 'cust_postal_cd', 'cust_ctry_nm',\n",
       "       'cust_email_addr', 'livea_match_cd', 'gndr_input_indv_cd',\n",
       "       'gndr_1st_indv_cd', 'gndr_2nd_indv_cd', 'age_two_yr_incr_input_indv',\n",
       "       ...\n",
       "       'client_sp', 'client_sale_dt_min', 'client_sale_dt_max',\n",
       "       'client_pe_tkt_cnt', 'client_pe_sp', 'client_tkt_price',\n",
       "       'client_tkt_price_max', 'client_tkt_price_min', 'vehicle_type', 'year'],\n",
       "      dtype='object', length=223)"
      ]
     },
     "execution_count": 5,
     "metadata": {},
     "output_type": "execute_result"
    }
   ],
   "source": [
    "liva.columns"
   ]
  },
  {
   "cell_type": "code",
   "execution_count": 6,
   "metadata": {},
   "outputs": [],
   "source": [
    "tickets_games_liva = pd.merge(tickets_games, liva, left_on = \"attendee_email\", right_on = 'cust_email_addr', how = \"left\")"
   ]
  },
  {
   "cell_type": "code",
   "execution_count": 7,
   "metadata": {},
   "outputs": [
    {
     "name": "stdout",
     "output_type": "stream",
     "text": [
      "<class 'pandas.core.frame.DataFrame'>\n",
      "RangeIndex: 15671001 entries, 0 to 15671000\n",
      "Columns: 251 entries, season_name_x to year\n",
      "dtypes: bool(1), boolean(35), datetime64[ns](8), float64(122), int64(2), object(83)\n",
      "memory usage: 26.1+ GB\n"
     ]
    }
   ],
   "source": [
    "tickets_games_liva.info()"
   ]
  },
  {
   "cell_type": "code",
   "execution_count": 9,
   "metadata": {},
   "outputs": [
    {
     "data": {
      "text/plain": [
       "15671001"
      ]
     },
     "execution_count": 9,
     "metadata": {},
     "output_type": "execute_result"
    }
   ],
   "source": [
    "len(tickets_games_liva)"
   ]
  },
  {
   "cell_type": "code",
   "execution_count": 11,
   "metadata": {},
   "outputs": [
    {
     "data": {
      "text/plain": [
       "cust_email_addr\n",
       "markruane@ruaneconstruction.com    4\n",
       "nirav.batavia@gmail.com            3\n",
       "jaeder@jdirealty.com               3\n",
       "scantwell06@yahoo.com              3\n",
       "sslee225@yahoo.com                 3\n",
       "                                  ..\n",
       "jsumm83@gmail.com                  1\n",
       "lutzjamesp@gmail.com               1\n",
       "snunberg@yahoo.com                 1\n",
       "eoyola2@yahoo.com                  1\n",
       "flannerm22@gmail.com               1\n",
       "Name: count, Length: 115498, dtype: int64"
      ]
     },
     "execution_count": 11,
     "metadata": {},
     "output_type": "execute_result"
    }
   ],
   "source": [
    "liva['cust_email_addr'].value_counts()"
   ]
  },
  {
   "cell_type": "code",
   "execution_count": 14,
   "metadata": {},
   "outputs": [],
   "source": [
    "email_liva = liva[liva['livea_match_cd'] == 'E']"
   ]
  },
  {
   "cell_type": "code",
   "execution_count": 15,
   "metadata": {},
   "outputs": [
    {
     "data": {
      "text/plain": [
       "cust_email_addr\n",
       "nirav.batavia@gmail.com          3\n",
       "mike@nikolich.com                2\n",
       "jeff.sindelar@gmail.com          2\n",
       "calchaney@comcast.net            2\n",
       "nathanieljfalk@gmail.com         2\n",
       "                                ..\n",
       "krissyteam4@gmail.com            1\n",
       "bryant@wallscottsolutions.com    1\n",
       "J.fallucca@palermospizza.com     1\n",
       "derekgonzalez2628@yahoo.com      1\n",
       "moilim21@gmail.com               1\n",
       "Name: count, Length: 47961, dtype: int64"
      ]
     },
     "execution_count": 15,
     "metadata": {},
     "output_type": "execute_result"
    }
   ],
   "source": [
    "email_liva['cust_email_addr'].value_counts()"
   ]
  },
  {
   "cell_type": "code",
   "execution_count": 16,
   "metadata": {},
   "outputs": [
    {
     "data": {
      "text/html": [
       "<div>\n",
       "<style scoped>\n",
       "    .dataframe tbody tr th:only-of-type {\n",
       "        vertical-align: middle;\n",
       "    }\n",
       "\n",
       "    .dataframe tbody tr th {\n",
       "        vertical-align: top;\n",
       "    }\n",
       "\n",
       "    .dataframe thead th {\n",
       "        text-align: right;\n",
       "    }\n",
       "</style>\n",
       "<table border=\"1\" class=\"dataframe\">\n",
       "  <thead>\n",
       "    <tr style=\"text-align: right;\">\n",
       "      <th></th>\n",
       "      <th>cust_city_nm</th>\n",
       "      <th>cust_state_nm</th>\n",
       "      <th>cust_postal_cd</th>\n",
       "      <th>cust_ctry_nm</th>\n",
       "      <th>cust_email_addr</th>\n",
       "      <th>livea_match_cd</th>\n",
       "      <th>gndr_input_indv_cd</th>\n",
       "      <th>gndr_1st_indv_cd</th>\n",
       "      <th>gndr_2nd_indv_cd</th>\n",
       "      <th>age_two_yr_incr_input_indv</th>\n",
       "      <th>...</th>\n",
       "      <th>client_sp</th>\n",
       "      <th>client_sale_dt_min</th>\n",
       "      <th>client_sale_dt_max</th>\n",
       "      <th>client_pe_tkt_cnt</th>\n",
       "      <th>client_pe_sp</th>\n",
       "      <th>client_tkt_price</th>\n",
       "      <th>client_tkt_price_max</th>\n",
       "      <th>client_tkt_price_min</th>\n",
       "      <th>vehicle_type</th>\n",
       "      <th>year</th>\n",
       "    </tr>\n",
       "  </thead>\n",
       "  <tbody>\n",
       "    <tr>\n",
       "      <th>49033</th>\n",
       "      <td>None</td>\n",
       "      <td>None</td>\n",
       "      <td>nan</td>\n",
       "      <td>None</td>\n",
       "      <td>nirav.batavia@gmail.com</td>\n",
       "      <td>E</td>\n",
       "      <td>M</td>\n",
       "      <td>M</td>\n",
       "      <td>F</td>\n",
       "      <td>40.0</td>\n",
       "      <td>...</td>\n",
       "      <td>627.2</td>\n",
       "      <td>2021-10-15</td>\n",
       "      <td>2021-10-15</td>\n",
       "      <td>4.0</td>\n",
       "      <td>627.2</td>\n",
       "      <td>156.8</td>\n",
       "      <td>156.8</td>\n",
       "      <td>156.8</td>\n",
       "      <td>L1</td>\n",
       "      <td>2024</td>\n",
       "    </tr>\n",
       "    <tr>\n",
       "      <th>65040</th>\n",
       "      <td>None</td>\n",
       "      <td>None</td>\n",
       "      <td>nan</td>\n",
       "      <td>None</td>\n",
       "      <td>nirav.batavia@gmail.com</td>\n",
       "      <td>E</td>\n",
       "      <td>M</td>\n",
       "      <td>M</td>\n",
       "      <td>F</td>\n",
       "      <td>40.0</td>\n",
       "      <td>...</td>\n",
       "      <td>627.2</td>\n",
       "      <td>2021-10-15</td>\n",
       "      <td>2021-10-15</td>\n",
       "      <td>4.0</td>\n",
       "      <td>627.2</td>\n",
       "      <td>156.8</td>\n",
       "      <td>156.8</td>\n",
       "      <td>156.8</td>\n",
       "      <td>L1</td>\n",
       "      <td>2023</td>\n",
       "    </tr>\n",
       "    <tr>\n",
       "      <th>112484</th>\n",
       "      <td>None</td>\n",
       "      <td>None</td>\n",
       "      <td>nan</td>\n",
       "      <td>None</td>\n",
       "      <td>nirav.batavia@gmail.com</td>\n",
       "      <td>E</td>\n",
       "      <td>M</td>\n",
       "      <td>M</td>\n",
       "      <td>F</td>\n",
       "      <td>40.0</td>\n",
       "      <td>...</td>\n",
       "      <td>627.2</td>\n",
       "      <td>2021-10-15</td>\n",
       "      <td>2021-10-15</td>\n",
       "      <td>4.0</td>\n",
       "      <td>627.2</td>\n",
       "      <td>156.8</td>\n",
       "      <td>156.8</td>\n",
       "      <td>156.8</td>\n",
       "      <td>L1</td>\n",
       "      <td>2023</td>\n",
       "    </tr>\n",
       "  </tbody>\n",
       "</table>\n",
       "<p>3 rows × 223 columns</p>\n",
       "</div>"
      ],
      "text/plain": [
       "       cust_city_nm cust_state_nm cust_postal_cd cust_ctry_nm  \\\n",
       "49033          None          None            nan         None   \n",
       "65040          None          None            nan         None   \n",
       "112484         None          None            nan         None   \n",
       "\n",
       "                cust_email_addr livea_match_cd gndr_input_indv_cd  \\\n",
       "49033   nirav.batavia@gmail.com              E                  M   \n",
       "65040   nirav.batavia@gmail.com              E                  M   \n",
       "112484  nirav.batavia@gmail.com              E                  M   \n",
       "\n",
       "       gndr_1st_indv_cd gndr_2nd_indv_cd  age_two_yr_incr_input_indv  ...  \\\n",
       "49033                 M                F                        40.0  ...   \n",
       "65040                 M                F                        40.0  ...   \n",
       "112484                M                F                        40.0  ...   \n",
       "\n",
       "        client_sp  client_sale_dt_min  client_sale_dt_max client_pe_tkt_cnt  \\\n",
       "49033       627.2          2021-10-15          2021-10-15               4.0   \n",
       "65040       627.2          2021-10-15          2021-10-15               4.0   \n",
       "112484      627.2          2021-10-15          2021-10-15               4.0   \n",
       "\n",
       "       client_pe_sp  client_tkt_price  client_tkt_price_max  \\\n",
       "49033         627.2             156.8                 156.8   \n",
       "65040         627.2             156.8                 156.8   \n",
       "112484        627.2             156.8                 156.8   \n",
       "\n",
       "        client_tkt_price_min  vehicle_type  year  \n",
       "49033                  156.8            L1  2024  \n",
       "65040                  156.8            L1  2023  \n",
       "112484                 156.8            L1  2023  \n",
       "\n",
       "[3 rows x 223 columns]"
      ]
     },
     "execution_count": 16,
     "metadata": {},
     "output_type": "execute_result"
    }
   ],
   "source": [
    "liva[liva[\"cust_email_addr\"] == 'nirav.batavia@gmail.com']"
   ]
  },
  {
   "cell_type": "code",
   "execution_count": 18,
   "metadata": {},
   "outputs": [
    {
     "data": {
      "text/plain": [
       "49033     False\n",
       "65040     False\n",
       "112484     True\n",
       "dtype: bool"
      ]
     },
     "execution_count": 18,
     "metadata": {},
     "output_type": "execute_result"
    }
   ],
   "source": [
    "df = liva[liva[\"cust_email_addr\"] == 'nirav.batavia@gmail.com']\n",
    "\n",
    "# Identify duplicate rows\n",
    "duplicate_rows = df.duplicated()\n",
    "\n",
    "# Print the duplicate rows\n",
    "duplicate_rows\n"
   ]
  },
  {
   "cell_type": "code",
   "execution_count": 26,
   "metadata": {},
   "outputs": [],
   "source": [
    "# Get a list of all column names\n",
    "all_columns = liva.columns.tolist()\n",
    "\n",
    "# Remove the names of the columns you want to exclude\n",
    "columns_to_consider = [col for col in all_columns if col not in ['liva_match_cd', 'year']]\n",
    "\n",
    "# Use df.duplicated() with the subset parameter\n",
    "duplicates = liva.drop_duplicates(subset=columns_to_consider)"
   ]
  },
  {
   "cell_type": "code",
   "execution_count": 27,
   "metadata": {},
   "outputs": [
    {
     "data": {
      "text/plain": [
       "7685"
      ]
     },
     "execution_count": 27,
     "metadata": {},
     "output_type": "execute_result"
    }
   ],
   "source": [
    "sum(duplicates)"
   ]
  },
  {
   "cell_type": "code",
   "execution_count": 28,
   "metadata": {},
   "outputs": [
    {
     "data": {
      "text/plain": [
       "3"
      ]
     },
     "execution_count": 28,
     "metadata": {},
     "output_type": "execute_result"
    }
   ],
   "source": [
    "len(df)"
   ]
  },
  {
   "cell_type": "code",
   "execution_count": null,
   "metadata": {},
   "outputs": [],
   "source": []
  }
 ],
 "metadata": {
  "kernelspec": {
   "display_name": "base",
   "language": "python",
   "name": "python3"
  },
  "language_info": {
   "codemirror_mode": {
    "name": "ipython",
    "version": 3
   },
   "file_extension": ".py",
   "mimetype": "text/x-python",
   "name": "python",
   "nbconvert_exporter": "python",
   "pygments_lexer": "ipython3",
   "version": "3.11.5"
  }
 },
 "nbformat": 4,
 "nbformat_minor": 2
}
