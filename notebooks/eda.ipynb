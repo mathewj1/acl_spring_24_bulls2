{
 "cells": [
  {
   "cell_type": "code",
   "execution_count": 2,
   "metadata": {},
   "outputs": [],
   "source": [
    "import pandas as pd"
   ]
  },
  {
   "cell_type": "markdown",
   "metadata": {},
   "source": [
    "## Ticket Sales Analysis"
   ]
  },
  {
   "cell_type": "code",
   "execution_count": 30,
   "metadata": {},
   "outputs": [
    {
     "name": "stderr",
     "output_type": "stream",
     "text": [
      "/var/folders/3q/d621fwvs43q2f6s93g46njd00000gn/T/ipykernel_1199/2632796308.py:2: DtypeWarning: Columns (6,8,14) have mixed types. Specify dtype option on import or set low_memory=False.\n",
      "  tickets = pd.read_csv(\"/Users/jm/working/acl_spring_24_bulls2/data/ticket_sales_data_2223_2324.csv\",\n"
     ]
    }
   ],
   "source": [
    "#Import ticket sales data\n",
    "tickets = pd.read_csv(\"/Users/jm/working/acl_spring_24_bulls2/data/ticket_sales_data_2223_2324.csv\", \n",
    "                      names = [\n",
    "                        'season_name', 'event_date', 'event_weekday', 'opponent_short',\n",
    "                        'parent_ticket_categories', 'add_date', 'days_before_event',\n",
    "                        'email', 'total_seats', 'seat_location', 'seat_level',\n",
    "                        'arrival_time', 'attendee_email', 'attendee_zip_code', 'mobile_scan',\n",
    "                        'scan_category'\n",
    "                    ]\n",
    "                )"
   ]
  },
  {
   "cell_type": "code",
   "execution_count": 31,
   "metadata": {},
   "outputs": [
    {
     "data": {
      "text/plain": [
       "125041"
      ]
     },
     "execution_count": 31,
     "metadata": {},
     "output_type": "execute_result"
    }
   ],
   "source": [
    "#Unique purchasers\n",
    "len(tickets.email.unique())"
   ]
  },
  {
   "cell_type": "code",
   "execution_count": 50,
   "metadata": {},
   "outputs": [
    {
     "data": {
      "text/plain": [
       "array([[<Axes: title={'center': 'attendee_zip_code'}>]], dtype=object)"
      ]
     },
     "execution_count": 50,
     "metadata": {},
     "output_type": "execute_result"
    },
    {
     "data": {
      "image/png": "[encoded data removed]",
      "text/plain": [
       "<Figure size 640x480 with 1 Axes>"
      ]
     },
     "metadata": {},
     "output_type": "display_data"
    }
   ],
   "source": [
    "tickets.groupby(\"email\").agg({\"attendee_zip_code\":\"count\"}).hist(range = (0,10))"
   ]
  },
  {
   "cell_type": "markdown",
   "metadata": {},
   "source": [
    "## Email Data Analysis"
   ]
  },
  {
   "cell_type": "code",
   "execution_count": 29,
   "metadata": {},
   "outputs": [],
   "source": [
    "#Import E-Mail Data\n",
    "kbyg_emails = pd.read_csv(\"/Users/jm/working/acl_spring_24_bulls2/data/kbyg_clickthrough_data_2223_2324.csv\", \n",
    "                      names = [\n",
    "                          'email', 'clickthrough_link', 'email_clickthrough_date_time',\n",
    "                          'email_name', 'total_clickthroughs', 'email_send_date',\n",
    "                          'unique_clickthroughs', 'clickthrough_link_count', 'season'\n",
    "                      ]\n",
    "       )\n",
    "postgame_emails = pd.read_csv(\"/Users/jm/working/acl_spring_24_bulls2/data/Postgame_Email_Clickthrough_2223_and_2324_seasons.csv\", \n",
    "                      names = [\n",
    "                          'email', 'clickthrough_link', 'email_clickthrough_date_time',\n",
    "                          'email_name', 'total_clickthroughs', 'email_send_date',\n",
    "                          'unique_clickthroughs', 'clickthrough_link_count', 'season'\n",
    "                      ]\n",
    "       )"
   ]
  },
  {
   "cell_type": "code",
   "execution_count": 26,
   "metadata": {},
   "outputs": [
    {
     "data": {
      "text/plain": [
       "Index(['Email Address', 'Clickthrough Link', 'Email Clickthrough Date/Time',\n",
       "       'Email Name', 'Total Clickthroughs', 'Email Send Date',\n",
       "       'Unique Clickthroughs', 'Clickthrough Link Count', 'Season'],\n",
       "      dtype='object')"
      ]
     },
     "execution_count": 26,
     "metadata": {},
     "output_type": "execute_result"
    }
   ],
   "source": [
    "kbyg_emails.columns"
   ]
  },
  {
   "cell_type": "code",
   "execution_count": 21,
   "metadata": {},
   "outputs": [
    {
     "data": {
      "text/plain": [
       "9089"
      ]
     },
     "execution_count": 21,
     "metadata": {},
     "output_type": "execute_result"
    }
   ],
   "source": [
    "# How many unique emails do we have here?\n",
    "len(kbyg_emails.email.unique())"
   ]
  },
  {
   "cell_type": "code",
   "execution_count": 22,
   "metadata": {},
   "outputs": [
    {
     "data": {
      "text/plain": [
       "17638"
      ]
     },
     "execution_count": 22,
     "metadata": {},
     "output_type": "execute_result"
    }
   ],
   "source": [
    "# How many unique emails do we have here?\n",
    "len(postgame_emails.email.unique())"
   ]
  },
  {
   "cell_type": "code",
   "execution_count": 9,
   "metadata": {},
   "outputs": [],
   "source": []
  },
  {
   "cell_type": "code",
   "execution_count": 10,
   "metadata": {},
   "outputs": [
    {
     "name": "stderr",
     "output_type": "stream",
     "text": [
      "/var/folders/3q/d621fwvs43q2f6s93g46njd00000gn/T/ipykernel_1199/142937810.py:3: DtypeWarning: Columns (6) have mixed types. Specify dtype option on import or set low_memory=False.\n",
      "  liva_2324 = pd.read_csv(\"/Users/jm/working/acl_spring_24_bulls2/data/liveA_2324_season_ticket_holders.csv\")\n"
     ]
    }
   ],
   "source": [
    "#Import LivaA Data\n",
    "liva_2223 = pd.read_csv(\"/Users/jm/working/acl_spring_24_bulls2/data/liveA_2223_season_ticket_holders.csv\")\n",
    "liva_2324 = pd.read_csv(\"/Users/jm/working/acl_spring_24_bulls2/data/liveA_2324_season_ticket_holders.csv\")"
   ]
  },
  {
   "cell_type": "code",
   "execution_count": 11,
   "metadata": {},
   "outputs": [
    {
     "data": {
      "text/html": [
       "<div>\n",
       "<style scoped>\n",
       "    .dataframe tbody tr th:only-of-type {\n",
       "        vertical-align: middle;\n",
       "    }\n",
       "\n",
       "    .dataframe tbody tr th {\n",
       "        vertical-align: top;\n",
       "    }\n",
       "\n",
       "    .dataframe thead th {\n",
       "        text-align: right;\n",
       "    }\n",
       "</style>\n",
       "<table border=\"1\" class=\"dataframe\">\n",
       "  <thead>\n",
       "    <tr style=\"text-align: right;\">\n",
       "      <th></th>\n",
       "      <th>Email Address</th>\n",
       "      <th>Clickthrough Link</th>\n",
       "      <th>Email Clickthrough Date/Time</th>\n",
       "      <th>Email Name</th>\n",
       "      <th>Total Clickthroughs</th>\n",
       "      <th>Email Send Date</th>\n",
       "      <th>Unique Clickthroughs</th>\n",
       "      <th>Clickthrough Link Count</th>\n",
       "      <th>Season</th>\n",
       "    </tr>\n",
       "  </thead>\n",
       "  <tbody>\n",
       "    <tr>\n",
       "      <th>0</th>\n",
       "      <td>404345@colum.edu</td>\n",
       "      <td>https://www.nba.com/bulls/healthandsafety</td>\n",
       "      <td>10/26/2023 13:28</td>\n",
       "      <td>2023_1025_CB_Digital_KBYG_OKC</td>\n",
       "      <td>1</td>\n",
       "      <td>10/25/2023 17:00</td>\n",
       "      <td>1</td>\n",
       "      <td>1</td>\n",
       "      <td>2324</td>\n",
       "    </tr>\n",
       "    <tr>\n",
       "      <th>1</th>\n",
       "      <td>a.aroonlap@gmail.com</td>\n",
       "      <td>https://www.nba.com/bulls/iog</td>\n",
       "      <td>10/25/2023 18:44</td>\n",
       "      <td>2023_1025_CB_Digital_KBYG_OKC</td>\n",
       "      <td>1</td>\n",
       "      <td>10/25/2023 17:00</td>\n",
       "      <td>1</td>\n",
       "      <td>1</td>\n",
       "      <td>2324</td>\n",
       "    </tr>\n",
       "    <tr>\n",
       "      <th>2</th>\n",
       "      <td>aarias@viveseguros.mx</td>\n",
       "      <td>https://www.nba.com/bulls/news/chicago-bulls-m...</td>\n",
       "      <td>10/25/2023 17:48</td>\n",
       "      <td>2023_1025_CB_Digital_KBYG_OKC</td>\n",
       "      <td>1</td>\n",
       "      <td>10/25/2023 17:00</td>\n",
       "      <td>1</td>\n",
       "      <td>1</td>\n",
       "      <td>2324</td>\n",
       "    </tr>\n",
       "    <tr>\n",
       "      <th>3</th>\n",
       "      <td>adam.zerella@proton.me</td>\n",
       "      <td>http://response.bulls.com/subscription-center</td>\n",
       "      <td>10/25/2023 17:41</td>\n",
       "      <td>2023_1025_CB_Digital_KBYG_OKC</td>\n",
       "      <td>1</td>\n",
       "      <td>10/25/2023 17:00</td>\n",
       "      <td>1</td>\n",
       "      <td>1</td>\n",
       "      <td>2324</td>\n",
       "    </tr>\n",
       "    <tr>\n",
       "      <th>4</th>\n",
       "      <td>agarcia2639@gmail.com</td>\n",
       "      <td>https://chicagobullsraffle.5050central.com/Hom...</td>\n",
       "      <td>10/26/2023 8:54</td>\n",
       "      <td>2023_1025_CB_Digital_KBYG_OKC</td>\n",
       "      <td>1</td>\n",
       "      <td>10/25/2023 17:00</td>\n",
       "      <td>1</td>\n",
       "      <td>1</td>\n",
       "      <td>2324</td>\n",
       "    </tr>\n",
       "  </tbody>\n",
       "</table>\n",
       "</div>"
      ],
      "text/plain": [
       "            Email Address                                  Clickthrough Link  \\\n",
       "0        404345@colum.edu          https://www.nba.com/bulls/healthandsafety   \n",
       "1    a.aroonlap@gmail.com                      https://www.nba.com/bulls/iog   \n",
       "2   aarias@viveseguros.mx  https://www.nba.com/bulls/news/chicago-bulls-m...   \n",
       "3  adam.zerella@proton.me      http://response.bulls.com/subscription-center   \n",
       "4   agarcia2639@gmail.com  https://chicagobullsraffle.5050central.com/Hom...   \n",
       "\n",
       "  Email Clickthrough Date/Time                     Email Name  \\\n",
       "0             10/26/2023 13:28  2023_1025_CB_Digital_KBYG_OKC   \n",
       "1             10/25/2023 18:44  2023_1025_CB_Digital_KBYG_OKC   \n",
       "2             10/25/2023 17:48  2023_1025_CB_Digital_KBYG_OKC   \n",
       "3             10/25/2023 17:41  2023_1025_CB_Digital_KBYG_OKC   \n",
       "4              10/26/2023 8:54  2023_1025_CB_Digital_KBYG_OKC   \n",
       "\n",
       "   Total Clickthroughs   Email Send Date  Unique Clickthroughs  \\\n",
       "0                    1  10/25/2023 17:00                     1   \n",
       "1                    1  10/25/2023 17:00                     1   \n",
       "2                    1  10/25/2023 17:00                     1   \n",
       "3                    1  10/25/2023 17:00                     1   \n",
       "4                    1  10/25/2023 17:00                     1   \n",
       "\n",
       "   Clickthrough Link Count  Season  \n",
       "0                        1    2324  \n",
       "1                        1    2324  \n",
       "2                        1    2324  \n",
       "3                        1    2324  \n",
       "4                        1    2324  "
      ]
     },
     "execution_count": 11,
     "metadata": {},
     "output_type": "execute_result"
    }
   ],
   "source": [
    "kbyg_emails.head()"
   ]
  },
  {
   "cell_type": "code",
   "execution_count": null,
   "metadata": {},
   "outputs": [],
   "source": []
  }
 ],
 "metadata": {
  "kernelspec": {
   "display_name": "Python 3",
   "language": "python",
   "name": "python3"
  },
  "language_info": {
   "codemirror_mode": {
    "name": "ipython",
    "version": 3
   },
   "file_extension": ".py",
   "mimetype": "text/x-python",
   "name": "python",
   "nbconvert_exporter": "python",
   "pygments_lexer": "ipython3",
   "version": "3.11.5"
  }
 },
 "nbformat": 4,
 "nbformat_minor": 2
}
