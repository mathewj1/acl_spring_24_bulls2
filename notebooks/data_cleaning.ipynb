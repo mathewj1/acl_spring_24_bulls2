{
 "cells": [
  {
   "cell_type": "markdown",
   "metadata": {},
   "source": [
    "# Data Cleaning"
   ]
  },
  {
   "cell_type": "code",
   "execution_count": 2,
   "metadata": {},
   "outputs": [],
   "source": [
    "import pandas as pd\n",
    "import pyarrow\n",
    "import os\n",
    "import matplotlib.pyplot as plt\n",
    "folder_path = os.getenv(\"MY_WORKSPACE\", 'empty') + '/acl_spring_24_bulls2'\n",
    "os.chdir(folder_path)"
   ]
  },
  {
   "cell_type": "markdown",
   "metadata": {},
   "source": [
    "4 types of data are provided: \n",
    "\n",
    "1. Ticket Sales Data - sales data from the tickets purchased and scanned at the United Center\n",
    "\n",
    "2. Email Engagement Data - these contain information about interactions attendees have with the emails sent before and after the game. There are two categories of files (send and clickthrough) for two types of emails (KBYG and postgame).\n",
    "\n",
    "    * KBYG - know before you go emails are the pre-game emails\n",
    "        \n",
    "        1. Send Details\n",
    "\n",
    "        2. Clickthrough Data\n",
    "\n",
    "    * Postgame - postgame emails sent after the game\n",
    "        \n",
    "        1. Send Details\n",
    "\n",
    "        2. Clickthrough Data\n",
    "\n",
    "3. LiveA Demographic Data - 3rd Party Provider data to augment with ticket sales and email engagment data to profile individuals with demographic characteristics\n",
    "\n",
    "4. Bulls Theme + Giveaway Schedule - schedule of promotional activity for each game. \n",
    "\n"
   ]
  },
  {
   "cell_type": "markdown",
   "metadata": {},
   "source": [
    "## Ticket Sales Data Cleaning"
   ]
  },
  {
   "cell_type": "code",
   "execution_count": 5,
   "metadata": {},
   "outputs": [],
   "source": [
    "#Import ticket sales data\n",
    "tickets = pd.read_csv(\"/Users/jm/working/acl_spring_24_bulls2/data/raw/Ticket Sales Data/22-23 & 23-24 (through 3.14) Ticket Sales Data.csv\", \n",
    "                      names = [\n",
    "                        'season_name', 'event_date', 'event_weekday', 'opponent_short',\n",
    "                        'parent_ticket_categories', 'add_date', 'days_before_event',\n",
    "                        'purchaser_email', 'total_seats', 'seat_location', 'seat_level',\n",
    "                        'arrival_time', 'attendee_email', 'attendee_zip_code', 'mobile_scan',\n",
    "                        'scan_category'\n",
    "                    ],\n",
    "                    header = 0\n",
    "                )\n",
    "\n"
   ]
  },
  {
   "cell_type": "code",
   "execution_count": 6,
   "metadata": {},
   "outputs": [],
   "source": [
    "# Fix Date Data Types\n",
    "tickets[\"event_date\"] = pd.to_datetime(tickets['event_date'], format = \"%d-%b-%y\")#.astype(str)\n",
    "\n",
    "tickets[\"add_date\"] = pd.to_datetime(tickets['add_date'], format = \"%d-%b-%y\")#.astype(str)\n",
    "\n",
    "tickets[\"arrival_time\"] = pd.to_datetime(tickets['arrival_time'], format = \"%m/%d/%y %H:%M\")"
   ]
  },
  {
   "cell_type": "code",
   "execution_count": 7,
   "metadata": {},
   "outputs": [],
   "source": [
    "# Convert mobile_scan to a boolean\n",
    "tickets['mobile_scan'] = tickets.mobile_scan.astype(\"bool\")"
   ]
  },
  {
   "cell_type": "markdown",
   "metadata": {},
   "source": [
    "### Ticket Sales Data Overview\n",
    "\n",
    "This data represents tickets redeemed at the United Center for Chicago Bulls home games. Column names have been renamed to be more code-friendly. Below is the data dictionary:\n",
    "\n",
    "### Event Information\n",
    "| Code Friendly Name        | Description                                                  | Detail                                         | Field Type |\n",
    "|---------------------------|--------------------------------------------------------------|------------------------------------------------|------------|\n",
    "| season_name               | Indicates the NBA season of each event                       | NBA season runs from October to April          | CHARACTER  |\n",
    "| event_date                | The date of the game for which tickets were redeemed         |                                                | DATE       |\n",
    "| event_weekday             | The day of the week each game was held                       |                                                | CHARACTER  |\n",
    "| opponent_short            | The nickname of the opposing team (city/location excluded)   | Example: Lakers, Pelicans                      | CHARACTER  |\n",
    "\n",
    "### Ticket Purchase Information\n",
    "| Code Friendly Name        | Description                                                  | Detail                                         | Field Type |\n",
    "|---------------------------|--------------------------------------------------------------|------------------------------------------------|------------|\n",
    "| parent_ticket_categories  | Type of ticket purchased                                     | Group = group purchases, Individual: Resale Buyer, Package = Subscription | CHARACTER  |\n",
    "| add_date                  | Date the tickets were purchased/added                        |                                                | DATE       |\n",
    "| days_before_event         | Days in advance the ticket was purchased                     | Calculated from Add Date and Event Date        | INTEGER    |\n",
    "| purchaser_email           | Email contact associated with the purchase record            |                                                | CHARACTER  |\n",
    "| total_seats               | Total number of seats purchased in the transaction           |                                                | INTEGER    |\n",
    "| seat_location             | Location in the United Center where the seats are located    | 100 Level = lower bowl of seats                 | CHARACTER  |\n",
    "| seat_level                | Level of seat access within the United Center                | Lower Level = 100 Level, Club Level = 200 and 300 levels | CHARACTER  |\n",
    "\n",
    "### Attendance Information\n",
    "| Code Friendly Name        | Description                                                  | Detail                                         | Field Type |\n",
    "|---------------------------|--------------------------------------------------------------|------------------------------------------------|------------|\n",
    "| arrival_time              | DateTime of ticket scan at the gate                          | Blank = Un-scanned ticket                      | DATETIME   |\n",
    "| attendee_email            | Email contact associated with the attendee                   |                                                | CHARACTER  |\n",
    "| attendee_zip_code         | Zip code of the attendee's address                           |                                                | INTEGER    |\n",
    "| mobile_scan               | Indicates if the ticket was scanned using a mobile device    | 1 = Mobile scan, 0 = Non-mobile scan, Blank = Un-scanned | BINARY     |\n",
    "| scan_category             | Method used by the attendee to access the event              |                                                | CHARACTER  |\n",
    "\n",
    "This dictionary serves as a reference for understanding and utilizing the data fields related to ticket sales for Chicago Bulls home games at the United Center.\n"
   ]
  },
  {
   "cell_type": "code",
   "execution_count": 8,
   "metadata": {},
   "outputs": [
    {
     "name": "stdout",
     "output_type": "stream",
     "text": [
      "<class 'pandas.core.frame.DataFrame'>\n",
      "RangeIndex: 570265 entries, 0 to 570264\n",
      "Data columns (total 16 columns):\n",
      " #   Column                    Non-Null Count   Dtype         \n",
      "---  ------                    --------------   -----         \n",
      " 0   season_name               570265 non-null  object        \n",
      " 1   event_date                570265 non-null  datetime64[ns]\n",
      " 2   event_weekday             570265 non-null  object        \n",
      " 3   opponent_short            570265 non-null  object        \n",
      " 4   parent_ticket_categories  570265 non-null  object        \n",
      " 5   add_date                  570265 non-null  datetime64[ns]\n",
      " 6   days_before_event         570265 non-null  int64         \n",
      " 7   purchaser_email           563715 non-null  object        \n",
      " 8   total_seats               570265 non-null  int64         \n",
      " 9   seat_location             570265 non-null  object        \n",
      " 10  seat_level                570265 non-null  object        \n",
      " 11  arrival_time              526213 non-null  datetime64[ns]\n",
      " 12  attendee_email            520524 non-null  object        \n",
      " 13  attendee_zip_code         402632 non-null  object        \n",
      " 14  mobile_scan               570265 non-null  bool          \n",
      " 15  scan_category             570265 non-null  object        \n",
      "dtypes: bool(1), datetime64[ns](3), int64(2), object(10)\n",
      "memory usage: 65.8+ MB\n"
     ]
    }
   ],
   "source": [
    "tickets.info()"
   ]
  },
  {
   "cell_type": "markdown",
   "metadata": {},
   "source": [
    "Filter to just the season ticket holders using the 'parent_ticket_categories' variable."
   ]
  },
  {
   "cell_type": "code",
   "execution_count": 9,
   "metadata": {},
   "outputs": [],
   "source": [
    "season_tickets = tickets[tickets['parent_ticket_categories'] == \"Season\"]"
   ]
  },
  {
   "cell_type": "code",
   "execution_count": 10,
   "metadata": {},
   "outputs": [
    {
     "name": "stdout",
     "output_type": "stream",
     "text": [
      "<class 'pandas.core.frame.DataFrame'>\n",
      "Index: 270086 entries, 300179 to 570264\n",
      "Data columns (total 16 columns):\n",
      " #   Column                    Non-Null Count   Dtype         \n",
      "---  ------                    --------------   -----         \n",
      " 0   season_name               270086 non-null  object        \n",
      " 1   event_date                270086 non-null  datetime64[ns]\n",
      " 2   event_weekday             270086 non-null  object        \n",
      " 3   opponent_short            270086 non-null  object        \n",
      " 4   parent_ticket_categories  270086 non-null  object        \n",
      " 5   add_date                  270086 non-null  datetime64[ns]\n",
      " 6   days_before_event         270086 non-null  int64         \n",
      " 7   purchaser_email           268908 non-null  object        \n",
      " 8   total_seats               270086 non-null  int64         \n",
      " 9   seat_location             270086 non-null  object        \n",
      " 10  seat_level                270086 non-null  object        \n",
      " 11  arrival_time              237206 non-null  datetime64[ns]\n",
      " 12  attendee_email            236956 non-null  object        \n",
      " 13  attendee_zip_code         201700 non-null  object        \n",
      " 14  mobile_scan               270086 non-null  bool          \n",
      " 15  scan_category             270086 non-null  object        \n",
      "dtypes: bool(1), datetime64[ns](3), int64(2), object(10)\n",
      "memory usage: 33.2+ MB\n"
     ]
    }
   ],
   "source": [
    "season_tickets.info()"
   ]
  },
  {
   "cell_type": "markdown",
   "metadata": {},
   "source": [
    "### Ticket Sales Data Summary\n",
    "\n",
    "There are 270,068 season ticket purchasers that were scanned at Chicago Bulls games at the United Center over the 2022-2023 season and 2023-2024 (through March 19th) season. The data contains 15 columns. \n",
    "\n",
    "There are missing values in the `purchaser_email`, `attendee_email`, `arrival_time`, and `attendee_zip_code` columns.\n",
    "\n"
   ]
  },
  {
   "cell_type": "code",
   "execution_count": null,
   "metadata": {},
   "outputs": [],
   "source": []
  },
  {
   "cell_type": "markdown",
   "metadata": {},
   "source": [
    "## Game Data Cleaning"
   ]
  },
  {
   "cell_type": "markdown",
   "metadata": {},
   "source": [
    "It may be important to look at data from the season. Here we have imported game data that shows the score, win streak, etc., for each regular season game. "
   ]
  },
  {
   "cell_type": "markdown",
   "metadata": {},
   "source": [
    "### Games Data Overview\n",
    "\n",
    "This data represents games played by the Chicago Bulls and the results. Below is the data dictionary:\n",
    "\n",
    "### Data Dictionary\n",
    "| Code Friendly Name        | Description                                                  | Detail                                         | Field Type |\n",
    "|---------------------------|--------------------------------------------------------------|------------------------------------------------|------------|\n",
    "| season_name               | Indicates the NBA season of each event                       | NBA season runs from October to April          | CHARACTER  |\n",
    "| G                         | Game number of the season                                    |                                                | INT        |\n",
    "| event_date                | date of the game                                             |                                                | DATE       |\n",
    "| start_ct                  | dstart time of the game in central time                      |                                                | DATE       |\n",
    "| away                      | 1 if away and 0 if home game                                 |                                                | INT        |\n",
    "| Opponent                  | full name of opponent                                        |                                                | CHARACTER  |\n",
    "| outcome                   | Win or Loss (W or L)                                         |                                                | CHARACTER  |\n",
    "| overtime                  | Did it go to overtime?                                       |                                                | CHARACTER  |\n",
    "| pts                       | points scored                                                |                                                | INT        |\n",
    "| pts_all                   | points allowed                                               |                                                | INT        |\n",
    "| W                         | wins to date                                                 |                                                | INT        |\n",
    "| L                         | losses to date                                               |                                                | INT        |\n",
    "| Streak                    | Streak                                                       |             e.g., 'W 4'    or 'L 2             | CHARACTER  |\n",
    "| Notes                     | misc notes                                                   |                                                | CHARACTER  |"
   ]
  },
  {
   "cell_type": "code",
   "execution_count": 10,
   "metadata": {},
   "outputs": [],
   "source": [
    "s23 = pd.read_csv(\"/Users/jm/working/acl_spring_24_bulls2/data/bulls2223_season.csv\")\n",
    "s24 = pd.read_csv(\"/Users/jm/working/acl_spring_24_bulls2/data/bulls2324_season.csv\")"
   ]
  },
  {
   "cell_type": "code",
   "execution_count": 11,
   "metadata": {},
   "outputs": [],
   "source": [
    "def convert_time(time_str):\n",
    "    return time_str.replace('p', ' PM').replace('a', ' AM')\n",
    "\n",
    "def prep_season_games(season_data, season:str):\n",
    "    season_data['season_name'] = season\n",
    "\n",
    "    season_data[\"start_et\"] = season_data['date'] + ' ' + season_data['start_et'].apply(convert_time)\n",
    "    season_data[\"start_et\"] = pd.to_datetime(season_data['start_et'], format = \"%a %b %d %Y %I:%M %p\")\n",
    "    season_data['event_date'] = pd.to_datetime(season_data['date'], format = \"%a %b %d %Y\")#.astype(str)\n",
    "\n",
    "    # Convert to central time zone\n",
    "    season_data[\"start_ct\"] =  season_data[\"start_et\"] - pd.Timedelta(hours=1)\n",
    "\n",
    "    return season_data\n",
    "\n",
    "s23 = prep_season_games(s23, season = \"2022-2023 Chicago Bulls\")[\n",
    "    [\n",
    "        \"season_name\", \"G\", \"event_date\", \"start_ct\", \"away\", \n",
    "        \"Opponent\", \"outcome\", \"overtime\", \"pts\", \"pts_all\",\n",
    "        \"W\", \"L\", \"Streak\", \"Notes\"\n",
    "        ]\n",
    "    ]\n",
    "\n",
    "s24 = prep_season_games(s24, season = \"2023-2024 Chicago Bulls\")[\n",
    "    [\n",
    "        \"season_name\", \"G\", \"event_date\", \"start_ct\", \"away\", \n",
    "        \"Opponent\", \"outcome\", \"overtime\", \"pts\", \"pts_all\",\n",
    "        \"W\", \"L\", \"Streak\", \"Notes\"\n",
    "        ]\n",
    "    ]"
   ]
  },
  {
   "cell_type": "code",
   "execution_count": 12,
   "metadata": {},
   "outputs": [],
   "source": [
    "bulls2224_games = pd.concat([s23, s24])"
   ]
  },
  {
   "cell_type": "code",
   "execution_count": 13,
   "metadata": {},
   "outputs": [],
   "source": [
    "# Filter for home games\n",
    "home_games = bulls2224_games[bulls2224_games['away'] == 0].drop('away', axis = 1)"
   ]
  },
  {
   "cell_type": "code",
   "execution_count": 14,
   "metadata": {},
   "outputs": [
    {
     "name": "stdout",
     "output_type": "stream",
     "text": [
      "<class 'pandas.core.frame.DataFrame'>\n",
      "Index: 79 entries, 2 to 72\n",
      "Data columns (total 13 columns):\n",
      " #   Column       Non-Null Count  Dtype         \n",
      "---  ------       --------------  -----         \n",
      " 0   season_name  79 non-null     object        \n",
      " 1   G            79 non-null     int64         \n",
      " 2   event_date   79 non-null     datetime64[ns]\n",
      " 3   start_ct     79 non-null     datetime64[ns]\n",
      " 4   Opponent     79 non-null     object        \n",
      " 5   outcome      79 non-null     object        \n",
      " 6   overtime     79 non-null     object        \n",
      " 7   pts          79 non-null     int64         \n",
      " 8   pts_all      79 non-null     int64         \n",
      " 9   W            79 non-null     int64         \n",
      " 10  L            79 non-null     int64         \n",
      " 11  Streak       79 non-null     object        \n",
      " 12  Notes        2 non-null      object        \n",
      "dtypes: datetime64[ns](2), int64(5), object(6)\n",
      "memory usage: 8.6+ KB\n"
     ]
    }
   ],
   "source": [
    "home_games.info()"
   ]
  },
  {
   "cell_type": "code",
   "execution_count": null,
   "metadata": {},
   "outputs": [],
   "source": []
  },
  {
   "cell_type": "markdown",
   "metadata": {},
   "source": [
    "## Email Engagement Data Cleaning"
   ]
  },
  {
   "cell_type": "markdown",
   "metadata": {},
   "source": [
    "The email engagment data is broken into two files corresponding to the pre-game and post-game email schedule. One email is sent before every Chicago Bulls game and another is sent after every game. The data collected in both of these files represents the clickthrough data for both types of email sent. Both files contain data for both the '22 - '23 season and '23 - '24 season. \n",
    "\n",
    "Everytime an attendee clicks a link on one of these emails a row is entered. \n",
    "\n",
    "The two types of email engagment data are: \n",
    "1. KBYG - Know Before You Go: these emails are sent before the game to ticket holders with pre-game instructions. Usually sent the same day. \n",
    "2. Post-Game: These emails are sent after the game with promotional material. \n",
    "\n",
    "Each of these types is complemented with send details data and clickthrough data.\n",
    "\n",
    "\n",
    "### Email Send - Data Dictionary\n",
    "\n",
    "We will rename the columns to make them more code friendly. Find the data dictionary below. \n",
    "\n",
    "| Variable Name                 | Code Friendly Name    | Description                                                   | Field Type |\n",
    "|-------------------------------|-----------------------|---------------------------------------------------------------|------------|\n",
    "| Email Send Date               | email_send_dt         | date and time the email was sent                              | DATE       |\n",
    "| Email Group                   | email_group           | the email group as defined by the Bulls team                  | CHARACTER  |\n",
    "| Email Name                    | email_name            | name of the email sent out                                    | CHARACTER  |\n",
    "| Email Address                 | attendee_email        | email of the attendee of the game                             | CHARACTER  |\n",
    "| Total Sends                   | total_sends           | number of sends                                               | INTEGER    |\n",
    "| Total Delivered               | total_delivered       | number of delivers                                            | INTEGER    |\n",
    "| Total Opens                   | total_opens           | number of opens                                               | INTEGER    |\n",
    "| Unique Opens                  | unique_opens          | number of unique opens                                        | INTEGER    |\n",
    "| Total Clickthroughs           | total_clickthroughs   | total count of click throughs                                 | INTEGER    |\n",
    "| Unique Clickthroughs          | unique_clickthroughs  | the number of unique clickthroughs                            | INTEGER    |\n",
    "| Season                        | season                | the season                                                    | CHARACTER  |\n",
    "|                               | email_type            | the type of email: kbyg or post                               | CHARACTER  |\n",
    "\n",
    "\n",
    "\n",
    "### Email Clickthrough - Data Dictionary\n",
    "\n",
    "We will rename the columns to make them more code friendly. Find the data dictionary below. \n",
    "\n",
    "| Variable Name                 | Code Friendly Name    | Description                                                   | Field Type |\n",
    "|-------------------------------|-----------------------|---------------------------------------------------------------|------------|\n",
    "| Email Address                 | attendee_email        | email of the attendee of the game                             | CHARACTER  |\n",
    "| Clickthrough Link             | clickthrough_url      | clickthrough link/URL                                         | CHARACTER  |\n",
    "| Email Clickthrough Date/Time  | clickthrough_dt       | clickthrough date and time                                    | DATE       |\n",
    "| Email Name                    | email_name            | name of the email sent out                                   | CHARACTER  |\n",
    "| Total Clickthroughs           | total_clickthroughs   | total count of click throughs                                 | INTEGER    |\n",
    "| Email Send Date               | email_send_dt         | date and time the email was sent                              | DATE       |\n",
    "| Unique Clickthroughs          | unique_clickthroughs  | the number of unique clickthroughs                            | INTEGER    |\n",
    "| Clickthrough Link Count       | clickthrough_link_count  | ????                                                       | INTEGER    |\n",
    "| Season                        | season                | the season                                                    | CHARACTER  |\n",
    "|                               | email_type            | the type of email: kbyg or post                               | CHARACTER  |\n",
    "\n",
    "Since both data sets follow the same data structure we will concatenate the datasets. We have also added in a column to denote which type of email is sent. "
   ]
  },
  {
   "cell_type": "markdown",
   "metadata": {},
   "source": [
    "### Send Details Data Cleaning"
   ]
  },
  {
   "cell_type": "code",
   "execution_count": 15,
   "metadata": {},
   "outputs": [],
   "source": [
    "# Load data from CSV file\n",
    "#Email Address,  Clickthrough Link,  Email Clickthrough Date/Time,  Email Name,Total Clickthroughs,Email Send Date,Unique Clickthroughs,Clickthrough Link Count,Season\n",
    "\n",
    "df_kbyg_send = pd.read_csv(\"data/raw/Email Engagement Data/KBYG_Send Details_2223 and 2324 Seasons.csv\"\n",
    "                 , \n",
    "                    header = 0\n",
    "                )\n",
    "df_kbyg_send['email_type'] = 'kbyg'\n",
    "\n",
    "df_post_send = pd.read_csv(\"data/raw/Email Engagement Data/Postgame Email_Send Details_2223 and 2324 seasons.csv\"\n",
    "                 , \n",
    "\n",
    "                    header = 0\n",
    "                )\n",
    "df_post_send['email_type'] = 'post'\n",
    "\n",
    "if sum(df_kbyg_send.columns.isin(df_post_send.columns)) == len(df_kbyg_send.columns):\n",
    "    df_kbyg_send.columns =  [\n",
    "                        'email_send_dt', 'email_group', 'email_name', 'attendee_email',\n",
    "                        'total_sends', 'total_delivered', 'total_opens', 'unique_opens',\n",
    "                        'total_clickthroughs', 'unique_clickthroughs', 'season', 'email_type'\n",
    "    ]\n",
    "    df_post_send.columns =  [\n",
    "                        'email_send_dt', 'email_group', 'email_name', 'attendee_email',\n",
    "                        'total_sends', 'total_delivered', 'total_opens', 'unique_opens',\n",
    "                        'total_clickthroughs', 'unique_clickthroughs', 'season', 'email_type'\n",
    "    ]\n",
    "\n",
    "    df_emails_send = pd.concat([df_kbyg_send, df_post_send])\n",
    "\n",
    "    df_emails_send[\"email_send_dt\"] = pd.to_datetime(df_emails_send['email_send_dt'], format = \"%m/%d/%y %H:%M\")"
   ]
  },
  {
   "cell_type": "code",
   "execution_count": 16,
   "metadata": {},
   "outputs": [
    {
     "name": "stdout",
     "output_type": "stream",
     "text": [
      "<class 'pandas.core.frame.DataFrame'>\n",
      "Index: 628052 entries, 0 to 233577\n",
      "Data columns (total 12 columns):\n",
      " #   Column                Non-Null Count   Dtype         \n",
      "---  ------                --------------   -----         \n",
      " 0   email_send_dt         628052 non-null  datetime64[ns]\n",
      " 1   email_group           628052 non-null  object        \n",
      " 2   email_name            628052 non-null  object        \n",
      " 3   attendee_email        628052 non-null  object        \n",
      " 4   total_sends           627442 non-null  float64       \n",
      " 5   total_delivered       627096 non-null  float64       \n",
      " 6   total_opens           91879 non-null   float64       \n",
      " 7   unique_opens          628052 non-null  int64         \n",
      " 8   total_clickthroughs   27706 non-null   float64       \n",
      " 9   unique_clickthroughs  628052 non-null  int64         \n",
      " 10  season                628052 non-null  int64         \n",
      " 11  email_type            628052 non-null  object        \n",
      "dtypes: datetime64[ns](1), float64(4), int64(3), object(4)\n",
      "memory usage: 62.3+ MB\n"
     ]
    }
   ],
   "source": [
    "df_emails_send.info()"
   ]
  },
  {
   "cell_type": "markdown",
   "metadata": {},
   "source": [
    "Now we have to filter for just those emails that correspond to season ticket holders from the tickets data. "
   ]
  },
  {
   "cell_type": "code",
   "execution_count": 17,
   "metadata": {},
   "outputs": [],
   "source": [
    "df_season_emails_send = df_emails_send[df_emails_send['attendee_email'].isin(season_tickets['attendee_email'].unique())]"
   ]
  },
  {
   "cell_type": "code",
   "execution_count": 18,
   "metadata": {},
   "outputs": [
    {
     "name": "stdout",
     "output_type": "stream",
     "text": [
      "<class 'pandas.core.frame.DataFrame'>\n",
      "Index: 222264 entries, 0 to 233571\n",
      "Data columns (total 12 columns):\n",
      " #   Column                Non-Null Count   Dtype         \n",
      "---  ------                --------------   -----         \n",
      " 0   email_send_dt         222264 non-null  datetime64[ns]\n",
      " 1   email_group           222264 non-null  object        \n",
      " 2   email_name            222264 non-null  object        \n",
      " 3   attendee_email        222264 non-null  object        \n",
      " 4   total_sends           222201 non-null  float64       \n",
      " 5   total_delivered       222142 non-null  float64       \n",
      " 6   total_opens           29666 non-null   float64       \n",
      " 7   unique_opens          222264 non-null  int64         \n",
      " 8   total_clickthroughs   5561 non-null    float64       \n",
      " 9   unique_clickthroughs  222264 non-null  int64         \n",
      " 10  season                222264 non-null  int64         \n",
      " 11  email_type            222264 non-null  object        \n",
      "dtypes: datetime64[ns](1), float64(4), int64(3), object(4)\n",
      "memory usage: 22.0+ MB\n"
     ]
    }
   ],
   "source": [
    "df_season_emails_send.info()"
   ]
  },
  {
   "cell_type": "code",
   "execution_count": null,
   "metadata": {},
   "outputs": [],
   "source": []
  },
  {
   "cell_type": "markdown",
   "metadata": {},
   "source": [
    "### Clickthrough Data Cleaning"
   ]
  },
  {
   "cell_type": "code",
   "execution_count": 19,
   "metadata": {},
   "outputs": [],
   "source": [
    "# Load data from CSV file\n",
    "#Email Address,  Clickthrough Link,  Email Clickthrough Date/Time,  Email Name,Total Clickthroughs,Email Send Date,Unique Clickthroughs,Clickthrough Link Count,Season\n",
    "\n",
    "df_kbyg_ctr = pd.read_csv(\"data/raw/Email Engagement Data/KBYG Clickthrough Data_2223 and 2324 Seasons.csv\"\n",
    "                 , \n",
    "                      names = [\n",
    "                        'attendee_email', 'clickthrough_url', 'clickthrough_dt',\n",
    "                        'email_name', 'total_clickthroughs', 'email_send_dt',\n",
    "                        'unique_clickthroughs', 'clickthrough_link_count', 'season'\n",
    "                    ],\n",
    "                    header = 0\n",
    "                )\n",
    "df_kbyg_ctr['email_type'] = 'kbyg'\n",
    "\n",
    "df_post_ctr = pd.read_csv(\"data/raw/Email Engagement Data/Postgame Email Clickthrough_2223 and 2324 seasons.csv\"\n",
    "                 , \n",
    "                      names = [\n",
    "                        'attendee_email', 'clickthrough_url', 'clickthrough_dt',\n",
    "                        'email_name', 'total_clickthroughs', 'email_send_dt',\n",
    "                        'unique_clickthroughs', 'clickthrough_link_count', 'season'\n",
    "                    ],\n",
    "                    header = 0\n",
    "                )\n",
    "df_post_ctr['email_type'] = 'post'\n",
    "\n",
    "df_emails_ctr = pd.concat([df_kbyg_ctr, df_post_ctr])\n"
   ]
  },
  {
   "cell_type": "code",
   "execution_count": 20,
   "metadata": {},
   "outputs": [],
   "source": [
    "# Fix Date Data Types\n",
    "df_emails_ctr[\"clickthrough_dt\"] = pd.to_datetime(df_emails_ctr['clickthrough_dt'], format = \"%m/%d/%Y %H:%M\")\n",
    "df_emails_ctr[\"email_send_dt\"] = pd.to_datetime(df_emails_ctr['email_send_dt'], format = \"%m/%d/%Y %H:%M\")"
   ]
  },
  {
   "cell_type": "markdown",
   "metadata": {},
   "source": [
    "Now we have to filter for just those emails that correspond to season ticket holders from the tickets data. "
   ]
  },
  {
   "cell_type": "code",
   "execution_count": 21,
   "metadata": {},
   "outputs": [],
   "source": [
    "df_season_emails_ctr = df_emails_ctr[df_emails_ctr['attendee_email'].isin(season_tickets['attendee_email'].unique())]"
   ]
  },
  {
   "cell_type": "code",
   "execution_count": 22,
   "metadata": {},
   "outputs": [
    {
     "name": "stdout",
     "output_type": "stream",
     "text": [
      "<class 'pandas.core.frame.DataFrame'>\n",
      "Index: 8158 entries, 1 to 23372\n",
      "Data columns (total 10 columns):\n",
      " #   Column                   Non-Null Count  Dtype         \n",
      "---  ------                   --------------  -----         \n",
      " 0   attendee_email           8158 non-null   object        \n",
      " 1   clickthrough_url         8158 non-null   object        \n",
      " 2   clickthrough_dt          8158 non-null   datetime64[ns]\n",
      " 3   email_name               8158 non-null   object        \n",
      " 4   total_clickthroughs      8158 non-null   int64         \n",
      " 5   email_send_dt            8158 non-null   datetime64[ns]\n",
      " 6   unique_clickthroughs     8158 non-null   int64         \n",
      " 7   clickthrough_link_count  8158 non-null   int64         \n",
      " 8   season                   8158 non-null   int64         \n",
      " 9   email_type               8158 non-null   object        \n",
      "dtypes: datetime64[ns](2), int64(4), object(4)\n",
      "memory usage: 701.1+ KB\n"
     ]
    }
   ],
   "source": [
    "df_season_emails_ctr.info()"
   ]
  },
  {
   "cell_type": "code",
   "execution_count": null,
   "metadata": {},
   "outputs": [],
   "source": []
  },
  {
   "cell_type": "markdown",
   "metadata": {},
   "source": [
    "## Live Analytics Data Cleaning"
   ]
  },
  {
   "cell_type": "markdown",
   "metadata": {},
   "source": [
    "The Live Anlaytics contains demographic data for ticketholder attendees. \n",
    "\n",
    "See the data dictionary for relevant information. "
   ]
  },
  {
   "cell_type": "code",
   "execution_count": 74,
   "metadata": {},
   "outputs": [
    {
     "name": "stderr",
     "output_type": "stream",
     "text": [
      "/var/folders/3q/d621fwvs43q2f6s93g46njd00000gn/T/ipykernel_35663/2828382056.py:3: DtypeWarning: Columns (6) have mixed types. Specify dtype option on import or set low_memory=False.\n",
      "  df_liva24 = pd.read_csv(\"data/raw/LiveA Demographic Data/23-24 LiveA (Season Ticketholder Attendees).csv\")\n"
     ]
    }
   ],
   "source": [
    "df_liva23 = pd.read_csv(\"data/raw/LiveA Demographic Data/22-23 LiveA (Season Ticketholder Attendees).csv\")\n",
    "\n",
    "df_liva24 = pd.read_csv(\"data/raw/LiveA Demographic Data/23-24 LiveA (Season Ticketholder Attendees).csv\")\n",
    "\n",
    "#Check if all columns are the same in both data sets\n",
    "sum(df_liva23.columns.isin(df_liva24.columns)) == 253\n",
    "\n",
    "# Let's merge these two years together to get one data set\n",
    "df_liva23[\"year\"] = 2023\n",
    "df_liva24[\"year\"] = 2024\n",
    "df_liva = pd.concat([df_liva24, df_liva23])"
   ]
  },
  {
   "cell_type": "code",
   "execution_count": 75,
   "metadata": {},
   "outputs": [
    {
     "name": "stdout",
     "output_type": "stream",
     "text": [
      "Percent of Season Ticketholders who appear in the LivA data:  87.7 %\n",
      "Percent of Season Ticketholder Attendees who appear in the LivA data:  99.4 %\n"
     ]
    }
   ],
   "source": [
    "print(\"Percent of Season Ticketholders who appear in the LivA data: \", round(len(df_liva[df_liva['cust_email_addr'].isin(season_tickets['purchaser_email'].unique())]['cust_email_addr'].unique()) / len(season_tickets.purchaser_email.unique()), 3)*100, '%')\n",
    "print(\"Percent of Season Ticketholder Attendees who appear in the LivA data: \", round(len(df_liva[df_liva['cust_email_addr'].isin(season_tickets['attendee_email'].unique())]['cust_email_addr'].unique()) / len(season_tickets.attendee_email.unique()), 3)*100, '%')"
   ]
  },
  {
   "cell_type": "code",
   "execution_count": 76,
   "metadata": {},
   "outputs": [
    {
     "name": "stdout",
     "output_type": "stream",
     "text": [
      "attendee_email\n",
      "nadeem@bastefinancial.com            5\n",
      "Msandoval31488@yahoo.com             5\n",
      "bosterzac@gmail.com                  5\n",
      "rwehman@stepan.com                   5\n",
      "chris.vonehrenkrook@singlesrc.com    5\n",
      "                                    ..\n",
      "raeruder@comcast.net                 4\n",
      "glynwaddell53@gmail.com              4\n",
      "caballo43@gmail.com                  4\n",
      "mgacek@alvarezandmarsal.com          4\n",
      "kwisla@yahoo.com                     4\n",
      "Name: count, Length: 3068, dtype: int64\n"
     ]
    }
   ],
   "source": [
    "value_counts = season_tickets['attendee_email'].value_counts()\n",
    "filtered_counts = value_counts[(value_counts >= 4) & (value_counts <= 5)]\n",
    "print(filtered_counts)"
   ]
  },
  {
   "cell_type": "code",
   "execution_count": 77,
   "metadata": {},
   "outputs": [
    {
     "data": {
      "text/html": [
       "<div>\n",
       "<style scoped>\n",
       "    .dataframe tbody tr th:only-of-type {\n",
       "        vertical-align: middle;\n",
       "    }\n",
       "\n",
       "    .dataframe tbody tr th {\n",
       "        vertical-align: top;\n",
       "    }\n",
       "\n",
       "    .dataframe thead th {\n",
       "        text-align: right;\n",
       "    }\n",
       "</style>\n",
       "<table border=\"1\" class=\"dataframe\">\n",
       "  <thead>\n",
       "    <tr style=\"text-align: right;\">\n",
       "      <th></th>\n",
       "      <th>season_name</th>\n",
       "      <th>event_date</th>\n",
       "      <th>event_weekday</th>\n",
       "      <th>opponent_short</th>\n",
       "      <th>parent_ticket_categories</th>\n",
       "      <th>add_date</th>\n",
       "      <th>days_before_event</th>\n",
       "      <th>purchaser_email</th>\n",
       "      <th>total_seats</th>\n",
       "      <th>seat_location</th>\n",
       "      <th>seat_level</th>\n",
       "      <th>arrival_time</th>\n",
       "      <th>attendee_email</th>\n",
       "      <th>attendee_zip_code</th>\n",
       "      <th>mobile_scan</th>\n",
       "      <th>scan_category</th>\n",
       "    </tr>\n",
       "  </thead>\n",
       "  <tbody>\n",
       "    <tr>\n",
       "      <th>476353</th>\n",
       "      <td>2023-2024 Chicago Bulls</td>\n",
       "      <td>2023-11-03</td>\n",
       "      <td>Fri</td>\n",
       "      <td>Nets</td>\n",
       "      <td>Season</td>\n",
       "      <td>2023-06-12</td>\n",
       "      <td>144</td>\n",
       "      <td>Mike.Torra@marmonrail.com</td>\n",
       "      <td>4</td>\n",
       "      <td>200 Level</td>\n",
       "      <td>Club Level</td>\n",
       "      <td>2023-11-03 18:57:00</td>\n",
       "      <td>kwisla@yahoo.com</td>\n",
       "      <td>60641</td>\n",
       "      <td>True</td>\n",
       "      <td>Web Browser</td>\n",
       "    </tr>\n",
       "    <tr>\n",
       "      <th>520136</th>\n",
       "      <td>2023-2024 Chicago Bulls</td>\n",
       "      <td>2023-12-23</td>\n",
       "      <td>Sat</td>\n",
       "      <td>Cavs</td>\n",
       "      <td>Season</td>\n",
       "      <td>2023-06-12</td>\n",
       "      <td>194</td>\n",
       "      <td>Mike.Torra@marmonrail.com</td>\n",
       "      <td>1</td>\n",
       "      <td>200 Level</td>\n",
       "      <td>Club Level</td>\n",
       "      <td>2023-12-23 19:30:00</td>\n",
       "      <td>kwisla@yahoo.com</td>\n",
       "      <td>60641</td>\n",
       "      <td>True</td>\n",
       "      <td>Web Browser</td>\n",
       "    </tr>\n",
       "    <tr>\n",
       "      <th>520137</th>\n",
       "      <td>2023-2024 Chicago Bulls</td>\n",
       "      <td>2023-12-23</td>\n",
       "      <td>Sat</td>\n",
       "      <td>Cavs</td>\n",
       "      <td>Season</td>\n",
       "      <td>2023-06-12</td>\n",
       "      <td>194</td>\n",
       "      <td>Mike.Torra@marmonrail.com</td>\n",
       "      <td>1</td>\n",
       "      <td>200 Level</td>\n",
       "      <td>Club Level</td>\n",
       "      <td>2023-12-23 19:46:00</td>\n",
       "      <td>kwisla@yahoo.com</td>\n",
       "      <td>60641</td>\n",
       "      <td>True</td>\n",
       "      <td>Web Browser</td>\n",
       "    </tr>\n",
       "    <tr>\n",
       "      <th>520138</th>\n",
       "      <td>2023-2024 Chicago Bulls</td>\n",
       "      <td>2023-12-23</td>\n",
       "      <td>Sat</td>\n",
       "      <td>Cavs</td>\n",
       "      <td>Season</td>\n",
       "      <td>2023-06-12</td>\n",
       "      <td>194</td>\n",
       "      <td>Mike.Torra@marmonrail.com</td>\n",
       "      <td>2</td>\n",
       "      <td>200 Level</td>\n",
       "      <td>Club Level</td>\n",
       "      <td>2023-12-23 19:31:00</td>\n",
       "      <td>kwisla@yahoo.com</td>\n",
       "      <td>60641</td>\n",
       "      <td>True</td>\n",
       "      <td>Web Browser</td>\n",
       "    </tr>\n",
       "  </tbody>\n",
       "</table>\n",
       "</div>"
      ],
      "text/plain": [
       "                    season_name event_date event_weekday opponent_short  \\\n",
       "476353  2023-2024 Chicago Bulls 2023-11-03           Fri           Nets   \n",
       "520136  2023-2024 Chicago Bulls 2023-12-23           Sat           Cavs   \n",
       "520137  2023-2024 Chicago Bulls 2023-12-23           Sat           Cavs   \n",
       "520138  2023-2024 Chicago Bulls 2023-12-23           Sat           Cavs   \n",
       "\n",
       "       parent_ticket_categories   add_date  days_before_event  \\\n",
       "476353                   Season 2023-06-12                144   \n",
       "520136                   Season 2023-06-12                194   \n",
       "520137                   Season 2023-06-12                194   \n",
       "520138                   Season 2023-06-12                194   \n",
       "\n",
       "                  purchaser_email  total_seats seat_location  seat_level  \\\n",
       "476353  Mike.Torra@marmonrail.com            4     200 Level  Club Level   \n",
       "520136  Mike.Torra@marmonrail.com            1     200 Level  Club Level   \n",
       "520137  Mike.Torra@marmonrail.com            1     200 Level  Club Level   \n",
       "520138  Mike.Torra@marmonrail.com            2     200 Level  Club Level   \n",
       "\n",
       "              arrival_time    attendee_email attendee_zip_code  mobile_scan  \\\n",
       "476353 2023-11-03 18:57:00  kwisla@yahoo.com             60641         True   \n",
       "520136 2023-12-23 19:30:00  kwisla@yahoo.com             60641         True   \n",
       "520137 2023-12-23 19:46:00  kwisla@yahoo.com             60641         True   \n",
       "520138 2023-12-23 19:31:00  kwisla@yahoo.com             60641         True   \n",
       "\n",
       "       scan_category  \n",
       "476353   Web Browser  \n",
       "520136   Web Browser  \n",
       "520137   Web Browser  \n",
       "520138   Web Browser  "
      ]
     },
     "execution_count": 77,
     "metadata": {},
     "output_type": "execute_result"
    }
   ],
   "source": [
    "season_tickets[season_tickets['attendee_email'] == \"kwisla@yahoo.com\"]"
   ]
  },
  {
   "cell_type": "markdown",
   "metadata": {},
   "source": [
    "### Now we will go through all the columns and clean them up"
   ]
  },
  {
   "cell_type": "code",
   "execution_count": 78,
   "metadata": {},
   "outputs": [],
   "source": [
    "# One hot encoding all the household age indicators \n",
    "columns_to_convert = df_liva.columns[20:56]\n",
    "df_liva[columns_to_convert] = df_liva[columns_to_convert].fillna(0).astype(bool)\n",
    "\n",
    "# Add additional columns to convert to bool by name\n",
    "col = 'suprs_mail_dma_cd'\n",
    "df_liva[col] = df_liva[col].fillna(0).replace('N', True).astype(bool)\n",
    "\n",
    "col = 'wrk_wmn_hh_flg'\n",
    "df_liva[col] = df_liva[col].fillna(0).replace('Y', True).astype(bool)\n",
    "\n",
    "columns_to_convert = df_liva.columns[71:82]\n",
    "df_liva[columns_to_convert] = df_liva[columns_to_convert].astype('boolean')\n",
    "\n",
    "columns_to_convert = df_liva.columns[88:112]\n",
    "df_liva[columns_to_convert] = df_liva[columns_to_convert].astype('boolean')\n",
    "\n"
   ]
  },
  {
   "cell_type": "code",
   "execution_count": 79,
   "metadata": {},
   "outputs": [],
   "source": [
    "# Editing income columns and making it all numerical 'est_hh_inc_cd_100pct_inc_cd'\n",
    "# Define the mapping dictionary\n",
    "mapping_dict = {1: '1', 2: '2', 3: '3', 4: '4', 5: '5', 6: '6', 7: '7', 8: '8', 9: '9',\n",
    "                'A': '10', 'B': '11', 'C': '12', 'D': '13', 'E': '14', 'F': '15', 'G': '16',\n",
    "                'H': '17', 'I': '18', 'J': '19'}\n",
    "\n",
    "cols_to_map = ['income_est_hh_cd','est_hh_inc_higher_ranges_cd', 'est_hh_inc_narrow_ranges_cd', 'est_hh_inc_cd_100pct_inc_cd', 'net_worth_gold_cd']\n",
    "# Edit the values of columns using mapping_dict\n",
    "for col in cols_to_map:\n",
    "    df_liva[col] = df_liva[col].map(mapping_dict)\n"
   ]
  },
  {
   "cell_type": "code",
   "execution_count": 80,
   "metadata": {},
   "outputs": [],
   "source": [
    "date_cols = ['e3_sale_dt_max', 'e3_event_dt_max', 'client_sale_dt_min', 'client_sale_dt_max']\n",
    "for col in date_cols:\n",
    "    df_liva[col] = pd.to_datetime(df_liva[col], format = \"%m/%d/%y\")"
   ]
  },
  {
   "cell_type": "code",
   "execution_count": 81,
   "metadata": {},
   "outputs": [
    {
     "name": "stdout",
     "output_type": "stream",
     "text": [
      "['cust_source_cd', 'la_id', 'ult_party_id', 'acct_id', 'race_cd', 'client_walkup_buyer_ind', 'ca_avg_hh_income', 'ca_median_hh_income', 'ca_disposable_inc', 'ca_discretionary_inc', 'ca_hs_rec_tot_spend', 'ca_hs_rec_ent', 'ca_hs_rec_ent_movie', 'ca_hs_rec_ent_livesports', 'ca_hs_rec_ent_livearts', 'ca_hs_rec_ent_museum', 'ca_hs_rec_ent_cablesat', 'ca_hs_rec_equip_sport', 'ca_hs_rec_equip_toy', 'ca_hs_rec_equip_videogame', 'ca_hs_rec_equip_artist', 'ca_hs_rec_equip_computer', 'ca_hs_rec_photography', 'ca_hs_rec_rec_vehicle', 'ca_hs_rec_home_ent', 'prizm_id', 'prizm_nm', 'prizmsg_cd', 'prizmsg_nm', 'prizmls_cd', 'prizmls_nm']\n"
     ]
    },
    {
     "data": {
      "text/plain": [
       "223"
      ]
     },
     "execution_count": 81,
     "metadata": {},
     "output_type": "execute_result"
    }
   ],
   "source": [
    "# Get the column names for specific indices\n",
    "indices = list(range(117, 117+25))  # all the canada columns\n",
    "column_names = list(df_liva.columns[indices])\n",
    "\n",
    "cols2drop = ['cust_source_cd', 'la_id', 'ult_party_id', 'acct_id', 'race_cd', 'client_walkup_buyer_ind'] + column_names\n",
    "print(cols2drop)\n",
    "\n",
    "# Check if columns in cols2drop list exist in the DataFrame\n",
    "existing_cols = [col for col in cols2drop if col in df_liva.columns]\n",
    "\n",
    "# Drop the existing columns from the DataFrame\n",
    "df_liva.drop(existing_cols, axis=1, inplace=True)\n",
    "\n",
    "len(df_liva.columns)\n"
   ]
  },
  {
   "cell_type": "code",
   "execution_count": 82,
   "metadata": {},
   "outputs": [],
   "source": [
    "#fix zip codes as string\n",
    "df_liva['cust_postal_cd'] = df_liva['cust_postal_cd'].astype(str)"
   ]
  },
  {
   "cell_type": "markdown",
   "metadata": {},
   "source": [
    "Filter for season ticketholder attendees"
   ]
  },
  {
   "cell_type": "code",
   "execution_count": 83,
   "metadata": {},
   "outputs": [],
   "source": [
    "df_season_liva = df_liva[df_liva['cust_email_addr'].isin(season_tickets['attendee_email']) | df_liva['cust_email_addr'].isin(season_tickets['purchaser_email'])]\n"
   ]
  },
  {
   "cell_type": "code",
   "execution_count": 84,
   "metadata": {},
   "outputs": [
    {
     "data": {
      "text/plain": [
       "128514"
      ]
     },
     "execution_count": 84,
     "metadata": {},
     "output_type": "execute_result"
    }
   ],
   "source": [
    "len(df_season_liva)"
   ]
  },
  {
   "cell_type": "code",
   "execution_count": 85,
   "metadata": {},
   "outputs": [
    {
     "data": {
      "text/plain": [
       "128900"
      ]
     },
     "execution_count": 85,
     "metadata": {},
     "output_type": "execute_result"
    }
   ],
   "source": [
    "len(df_liva)"
   ]
  },
  {
   "cell_type": "code",
   "execution_count": 86,
   "metadata": {},
   "outputs": [
    {
     "name": "stdout",
     "output_type": "stream",
     "text": [
      "<class 'pandas.core.frame.DataFrame'>\n",
      "Index: 128514 entries, 0 to 76883\n",
      "Columns: 223 entries, cust_city_nm to year\n",
      "dtypes: bool(38), boolean(35), datetime64[ns](4), float64(116), int64(1), object(29)\n",
      "memory usage: 161.3+ MB\n"
     ]
    }
   ],
   "source": [
    "df_season_liva.info()"
   ]
  },
  {
   "cell_type": "markdown",
   "metadata": {},
   "source": [
    "Now we must get rid of the duplicate rows."
   ]
  },
  {
   "cell_type": "code",
   "execution_count": null,
   "metadata": {},
   "outputs": [],
   "source": []
  },
  {
   "cell_type": "code",
   "execution_count": 90,
   "metadata": {},
   "outputs": [
    {
     "data": {
      "text/plain": [
       "115499"
      ]
     },
     "execution_count": 90,
     "metadata": {},
     "output_type": "execute_result"
    }
   ],
   "source": [
    "len(df_season_liva.cust_email_addr.unique())"
   ]
  },
  {
   "cell_type": "code",
   "execution_count": 89,
   "metadata": {},
   "outputs": [
    {
     "data": {
      "text/plain": [
       "47961"
      ]
     },
     "execution_count": 89,
     "metadata": {},
     "output_type": "execute_result"
    }
   ],
   "source": [
    "len(df_season_liva[df_season_liva['livea_match_cd'] == \"E\"].cust_email_addr.unique())"
   ]
  },
  {
   "cell_type": "code",
   "execution_count": 50,
   "metadata": {},
   "outputs": [],
   "source": [
    "# Get a list of all column names\n",
    "all_columns = df_season_liva.columns.tolist()\n",
    "\n",
    "# Remove the names of the columns you want to exclude\n",
    "columns_to_consider = [col for col in all_columns if col not in ['livea_match_cd', 'year']]\n",
    "\n",
    "# Use df.duplicated() with the subset parameter\n",
    "df_season_liva = df_season_liva.drop_duplicates(subset=columns_to_consider, keep= 'last')"
   ]
  },
  {
   "cell_type": "code",
   "execution_count": 51,
   "metadata": {},
   "outputs": [
    {
     "data": {
      "text/plain": [
       "120829"
      ]
     },
     "execution_count": 51,
     "metadata": {},
     "output_type": "execute_result"
    }
   ],
   "source": [
    "len(df_season_liva)"
   ]
  },
  {
   "cell_type": "code",
   "execution_count": 62,
   "metadata": {},
   "outputs": [
    {
     "data": {
      "text/plain": [
       "['cust_city_nm',\n",
       " 'cust_state_nm',\n",
       " 'cust_postal_cd',\n",
       " 'cust_ctry_nm',\n",
       " 'cust_email_addr',\n",
       " 'gndr_input_indv_cd']"
      ]
     },
     "execution_count": 62,
     "metadata": {},
     "output_type": "execute_result"
    }
   ],
   "source": [
    "columns_to_consider[0:6]"
   ]
  },
  {
   "cell_type": "code",
   "execution_count": 52,
   "metadata": {},
   "outputs": [
    {
     "data": {
      "text/plain": [
       "cust_email_addr\n",
       "scantwell06@yahoo.com           3\n",
       "hannah@axelrodstrategies.com    3\n",
       "encummingsjr@gmail.com          3\n",
       "robynforystek@yahoo.com         3\n",
       "russ.avellana@gmail.com         2\n",
       "                               ..\n",
       "gutmanjoseph@gmail.com          1\n",
       "e5engineer@netzero.com          1\n",
       "daven@midwestutility.com        1\n",
       "howardsengle@aol.com            1\n",
       "flannerm22@gmail.com            1\n",
       "Name: count, Length: 115498, dtype: int64"
      ]
     },
     "execution_count": 52,
     "metadata": {},
     "output_type": "execute_result"
    }
   ],
   "source": [
    "df_season_liva['cust_email_addr'].value_counts()"
   ]
  },
  {
   "cell_type": "code",
   "execution_count": 65,
   "metadata": {},
   "outputs": [
    {
     "data": {
      "text/plain": [
       "24734    False\n",
       "42399    False\n",
       "19325    False\n",
       "dtype: bool"
      ]
     },
     "execution_count": 65,
     "metadata": {},
     "output_type": "execute_result"
    }
   ],
   "source": [
    "df_season_liva[df_season_liva[\"cust_email_addr\"] == 'scantwell06@yahoo.com'].duplicated(subset = columns_to_consider[0:6])"
   ]
  },
  {
   "cell_type": "code",
   "execution_count": 66,
   "metadata": {},
   "outputs": [
    {
     "data": {
      "text/plain": [
       "['cust_city_nm',\n",
       " 'cust_state_nm',\n",
       " 'cust_postal_cd',\n",
       " 'cust_ctry_nm',\n",
       " 'cust_email_addr',\n",
       " 'gndr_input_indv_cd']"
      ]
     },
     "execution_count": 66,
     "metadata": {},
     "output_type": "execute_result"
    }
   ],
   "source": [
    "columns_to_consider[0:6]"
   ]
  },
  {
   "cell_type": "code",
   "execution_count": 73,
   "metadata": {},
   "outputs": [
    {
     "data": {
      "text/plain": [
       "True"
      ]
     },
     "execution_count": 73,
     "metadata": {},
     "output_type": "execute_result"
    }
   ],
   "source": [
    "list(df_season_liva[df_season_liva[\"cust_email_addr\"] == 'scantwell06@yahoo.com']['gndr_input_indv_cd'])[1]==list(df_season_liva[df_season_liva[\"cust_email_addr\"] == 'scantwell06@yahoo.com']['gndr_input_indv_cd'])[2]"
   ]
  },
  {
   "cell_type": "markdown",
   "metadata": {},
   "source": [
    "##  Promotional Data"
   ]
  },
  {
   "cell_type": "code",
   "execution_count": null,
   "metadata": {},
   "outputs": [],
   "source": []
  },
  {
   "cell_type": "code",
   "execution_count": 45,
   "metadata": {},
   "outputs": [],
   "source": [
    "df_promos = pd.read_csv(\"data/raw/Bulls Theme + Giveaway Schedules.csv\"\n",
    "                        ,\n",
    "                        names = ['event_date', 'opponent', 'start_ct', 'dameday_offer', 'primary_theme_partner', 'giveaway_partner', 'item_of_the_game']\n",
    "                        , header = 0\n",
    "                        )\n",
    "df_promos['event_date'] = pd.to_datetime(df_promos['event_date'], format = \"%m/%d/%y\")"
   ]
  },
  {
   "cell_type": "code",
   "execution_count": 46,
   "metadata": {},
   "outputs": [
    {
     "name": "stdout",
     "output_type": "stream",
     "text": [
      "<class 'pandas.core.frame.DataFrame'>\n",
      "RangeIndex: 966 entries, 0 to 965\n",
      "Data columns (total 7 columns):\n",
      " #   Column                 Non-Null Count  Dtype         \n",
      "---  ------                 --------------  -----         \n",
      " 0   event_date             80 non-null     datetime64[ns]\n",
      " 1   opponent               80 non-null     object        \n",
      " 2   start_ct               80 non-null     object        \n",
      " 3   dameday_offer          10 non-null     object        \n",
      " 4   primary_theme_partner  58 non-null     object        \n",
      " 5   giveaway_partner       32 non-null     object        \n",
      " 6   item_of_the_game       80 non-null     object        \n",
      "dtypes: datetime64[ns](1), object(6)\n",
      "memory usage: 53.0+ KB\n"
     ]
    }
   ],
   "source": [
    "df_promos.info()"
   ]
  },
  {
   "cell_type": "code",
   "execution_count": 47,
   "metadata": {},
   "outputs": [
    {
     "data": {
      "text/html": [
       "<div>\n",
       "<style scoped>\n",
       "    .dataframe tbody tr th:only-of-type {\n",
       "        vertical-align: middle;\n",
       "    }\n",
       "\n",
       "    .dataframe tbody tr th {\n",
       "        vertical-align: top;\n",
       "    }\n",
       "\n",
       "    .dataframe thead th {\n",
       "        text-align: right;\n",
       "    }\n",
       "</style>\n",
       "<table border=\"1\" class=\"dataframe\">\n",
       "  <thead>\n",
       "    <tr style=\"text-align: right;\">\n",
       "      <th></th>\n",
       "      <th>event_date</th>\n",
       "      <th>opponent</th>\n",
       "      <th>start_ct</th>\n",
       "      <th>dameday_offer</th>\n",
       "      <th>primary_theme_partner</th>\n",
       "      <th>giveaway_partner</th>\n",
       "      <th>item_of_the_game</th>\n",
       "    </tr>\n",
       "  </thead>\n",
       "  <tbody>\n",
       "    <tr>\n",
       "      <th>0</th>\n",
       "      <td>2022-10-04</td>\n",
       "      <td>New Orleans</td>\n",
       "      <td>8:30 PM</td>\n",
       "      <td>NaN</td>\n",
       "      <td>Windy City Bulls Night</td>\n",
       "      <td>NaN</td>\n",
       "      <td>PRIMARY LOGO TEES</td>\n",
       "    </tr>\n",
       "    <tr>\n",
       "      <th>1</th>\n",
       "      <td>2022-10-07</td>\n",
       "      <td>Denver</td>\n",
       "      <td>7:00 PM</td>\n",
       "      <td>NaN</td>\n",
       "      <td>NaN</td>\n",
       "      <td>NaN</td>\n",
       "      <td>PRIMARY LOGO TEES</td>\n",
       "    </tr>\n",
       "    <tr>\n",
       "      <th>2</th>\n",
       "      <td>2022-10-11</td>\n",
       "      <td>Milwaukee</td>\n",
       "      <td>7:00 PM</td>\n",
       "      <td>NaN</td>\n",
       "      <td>NaN</td>\n",
       "      <td>NaN</td>\n",
       "      <td>POSTCARD TEES</td>\n",
       "    </tr>\n",
       "    <tr>\n",
       "      <th>3</th>\n",
       "      <td>2022-10-22</td>\n",
       "      <td>Cleveland</td>\n",
       "      <td>7:00 PM</td>\n",
       "      <td>NaN</td>\n",
       "      <td>Home Opener (AT&amp;T)</td>\n",
       "      <td>T-Shirt (AT&amp;T)</td>\n",
       "      <td>Sportiqe Chicago Script Hoodie</td>\n",
       "    </tr>\n",
       "    <tr>\n",
       "      <th>4</th>\n",
       "      <td>2022-10-24</td>\n",
       "      <td>Boston</td>\n",
       "      <td>7:00 PM</td>\n",
       "      <td>Starting Five Menu</td>\n",
       "      <td>NaN</td>\n",
       "      <td>NaN</td>\n",
       "      <td>PRIMARY LOGO TEES</td>\n",
       "    </tr>\n",
       "  </tbody>\n",
       "</table>\n",
       "</div>"
      ],
      "text/plain": [
       "  event_date     opponent start_ct       dameday_offer  \\\n",
       "0 2022-10-04  New Orleans  8:30 PM                 NaN   \n",
       "1 2022-10-07       Denver  7:00 PM                 NaN   \n",
       "2 2022-10-11   Milwaukee   7:00 PM                 NaN   \n",
       "3 2022-10-22   Cleveland   7:00 PM                 NaN   \n",
       "4 2022-10-24       Boston  7:00 PM  Starting Five Menu   \n",
       "\n",
       "    primary_theme_partner giveaway_partner                item_of_the_game  \n",
       "0  Windy City Bulls Night              NaN               PRIMARY LOGO TEES  \n",
       "1                     NaN              NaN               PRIMARY LOGO TEES  \n",
       "2                     NaN              NaN                   POSTCARD TEES  \n",
       "3      Home Opener (AT&T)   T-Shirt (AT&T)  Sportiqe Chicago Script Hoodie  \n",
       "4                     NaN              NaN               PRIMARY LOGO TEES  "
      ]
     },
     "execution_count": 47,
     "metadata": {},
     "output_type": "execute_result"
    }
   ],
   "source": [
    "df_promos.head()"
   ]
  },
  {
   "cell_type": "markdown",
   "metadata": {},
   "source": [
    "## Export Data"
   ]
  },
  {
   "cell_type": "code",
   "execution_count": 48,
   "metadata": {},
   "outputs": [],
   "source": [
    "season_tickets.to_csv('data/processed/season_tickets.csv', index = False)\n",
    "home_games.to_csv('data/processed/home_games.csv', index = False)\n",
    "df_season_emails_send.to_csv('data/processed/season_email_send.csv', index = False)\n",
    "df_season_emails_ctr.to_csv('data/processed/season_email_ctr.csv', index = False)\n",
    "df_season_liva.to_csv('data/processed/season_liva.csv', index = False)"
   ]
  },
  {
   "cell_type": "code",
   "execution_count": 49,
   "metadata": {},
   "outputs": [
    {
     "name": "stderr",
     "output_type": "stream",
     "text": [
      "/Users/jm/anaconda3/lib/python3.11/site-packages/pyarrow/pandas_compat.py:373: FutureWarning: is_sparse is deprecated and will be removed in a future version. Check `isinstance(dtype, pd.SparseDtype)` instead.\n",
      "  if _pandas_api.is_sparse(col):\n"
     ]
    }
   ],
   "source": [
    "season_tickets.to_parquet('data/processed/season_tickets.parquet', index=False)\n",
    "home_games.to_parquet('data/processed/home_games.parquet', index=False)\n",
    "df_season_emails_send.to_parquet('data/processed/season_email_send.parquet', index=False)\n",
    "df_season_emails_ctr.to_parquet('data/processed/season_email_ctr.parquet', index=False)\n",
    "df_season_liva.to_parquet('data/processed/liv_a.parquet', index=False)"
   ]
  },
  {
   "cell_type": "markdown",
   "metadata": {},
   "source": []
  }
 ],
 "metadata": {
  "kernelspec": {
   "display_name": "bulls2",
   "language": "python",
   "name": "python3"
  },
  "language_info": {
   "codemirror_mode": {
    "name": "ipython",
    "version": 3
   },
   "file_extension": ".py",
   "mimetype": "text/x-python",
   "name": "python",
   "nbconvert_exporter": "python",
   "pygments_lexer": "ipython3",
   "version": "3.11.5"
  }
 },
 "nbformat": 4,
 "nbformat_minor": 2
}
